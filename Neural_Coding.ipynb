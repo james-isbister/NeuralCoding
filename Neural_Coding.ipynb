{
 "cells": [
  {
   "cell_type": "code",
   "execution_count": 1,
   "metadata": {
    "collapsed": false,
    "jupyter": {
     "outputs_hidden": false
    }
   },
   "outputs": [],
   "source": [
    "%matplotlib inline\n",
    "import ncstudy.analysis as analysis\n",
    "import numpy as np\n",
    "import pdb\n",
    "import time\n",
    "import matplotlib.pyplot as plt\n",
    "import matplotlib\n",
    "# plt.style.use('dark_background')"
   ]
  },
  {
   "cell_type": "markdown",
   "metadata": {},
   "source": [
    "# Full analysis run for viewing results only"
   ]
  },
  {
   "cell_type": "code",
   "execution_count": null,
   "metadata": {
    "collapsed": false,
    "jupyter": {
     "outputs_hidden": false
    },
    "scrolled": true
   },
   "outputs": [
    {
     "name": "stdout",
     "output_type": "stream",
     "text": [
      "Loading...\n"
     ]
    },
    {
     "name": "stderr",
     "output_type": "stream",
     "text": [
      "100%|██████████| 94/94 [00:00<00:00, 14516.90it/s]\n"
     ]
    },
    {
     "name": "stdout",
     "output_type": "stream",
     "text": [
      "Updating...\n"
     ]
    },
    {
     "name": "stderr",
     "output_type": "stream",
     "text": [
      "  0%|          | 0/94 [00:00<?, ?it/s]"
     ]
    },
    {
     "name": "stdout",
     "output_type": "stream",
     "text": [
      "../../data/17d05-1/presyn_ids.csv\n",
      "[ 0  2  3  4  5  6  7  8  9 10]\n"
     ]
    },
    {
     "name": "stderr",
     "output_type": "stream",
     "text": [
      "/gpfs/bbp.cscs.ch/home/isbister/code/external/prince_original_manuscript_code/NeuralCoding/ncstudy/ephys.py:271: FutureWarning: Using a non-tuple sequence for multidimensional indexing is deprecated; use `arr[tuple(seq)]` instead of `arr[seq]`. In the future this will be interpreted as an array index, `arr[np.array(seq)]`, which will result either in an error or a different result.\n",
      "  return spikeTrace[1:-1][ap_thresh][0]\n"
     ]
    },
    {
     "name": "stdout",
     "output_type": "stream",
     "text": [
      "../../data/17d05-1\n",
      "True\n",
      "../../data/17d05-1\n",
      "True\n"
     ]
    },
    {
     "name": "stderr",
     "output_type": "stream",
     "text": [
      "  1%|          | 1/94 [00:12<19:27, 12.56s/it]/gpfs/bbp.cscs.ch/home/isbister/code/external/prince_original_manuscript_code/NeuralCoding/ncstudy/ephys.py:271: FutureWarning: Using a non-tuple sequence for multidimensional indexing is deprecated; use `arr[tuple(seq)]` instead of `arr[seq]`. In the future this will be interpreted as an array index, `arr[np.array(seq)]`, which will result either in an error or a different result.\n",
      "  return spikeTrace[1:-1][ap_thresh][0]\n"
     ]
    },
    {
     "name": "stdout",
     "output_type": "stream",
     "text": [
      "../../data/17d05-2/presyn_ids.csv\n",
      "[0 1 2 3 4 5 6 7 8 9]\n",
      "../../data/17d05-2\n",
      "True\n",
      "../../data/17d05-2\n",
      "True\n"
     ]
    },
    {
     "name": "stderr",
     "output_type": "stream",
     "text": [
      "  2%|▏         | 2/94 [00:24<18:56, 12.36s/it]/gpfs/bbp.cscs.ch/home/isbister/code/external/prince_original_manuscript_code/NeuralCoding/ncstudy/ephys.py:271: FutureWarning: Using a non-tuple sequence for multidimensional indexing is deprecated; use `arr[tuple(seq)]` instead of `arr[seq]`. In the future this will be interpreted as an array index, `arr[np.array(seq)]`, which will result either in an error or a different result.\n",
      "  return spikeTrace[1:-1][ap_thresh][0]\n"
     ]
    },
    {
     "name": "stdout",
     "output_type": "stream",
     "text": [
      "../../data/17d05-3/presyn_ids.csv\n",
      "[ 5  6  7  8  9 10 11 12 13 14]\n",
      "../../data/17d05-3\n",
      "True\n",
      "../../data/17d05-3\n",
      "True\n"
     ]
    },
    {
     "name": "stderr",
     "output_type": "stream",
     "text": [
      "  3%|▎         | 3/94 [00:37<18:51, 12.43s/it]/gpfs/bbp.cscs.ch/home/isbister/code/external/prince_original_manuscript_code/NeuralCoding/ncstudy/ephys.py:271: FutureWarning: Using a non-tuple sequence for multidimensional indexing is deprecated; use `arr[tuple(seq)]` instead of `arr[seq]`. In the future this will be interpreted as an array index, `arr[np.array(seq)]`, which will result either in an error or a different result.\n",
      "  return spikeTrace[1:-1][ap_thresh][0]\n"
     ]
    },
    {
     "name": "stdout",
     "output_type": "stream",
     "text": [
      "../../data/17d05-4/presyn_ids.csv\n",
      "[ 0  1  2  3  4  5  6  7 10 15]\n",
      "../../data/17d05-4\n",
      "True\n",
      "../../data/17d05-4\n",
      "True\n"
     ]
    },
    {
     "name": "stderr",
     "output_type": "stream",
     "text": [
      "  4%|▍         | 4/94 [00:51<19:52, 13.25s/it]/gpfs/bbp.cscs.ch/home/isbister/code/external/prince_original_manuscript_code/NeuralCoding/ncstudy/ephys.py:271: FutureWarning: Using a non-tuple sequence for multidimensional indexing is deprecated; use `arr[tuple(seq)]` instead of `arr[seq]`. In the future this will be interpreted as an array index, `arr[np.array(seq)]`, which will result either in an error or a different result.\n",
      "  return spikeTrace[1:-1][ap_thresh][0]\n"
     ]
    },
    {
     "name": "stdout",
     "output_type": "stream",
     "text": [
      "../../data/17d06-1/presyn_ids.csv\n",
      "[ 0  1  3  4  5  6  7  8 10 11]\n",
      "../../data/17d06-1\n",
      "True\n",
      "../../data/17d06-1\n",
      "True\n"
     ]
    },
    {
     "name": "stderr",
     "output_type": "stream",
     "text": [
      "  5%|▌         | 5/94 [01:04<19:10, 12.93s/it]/gpfs/bbp.cscs.ch/home/isbister/code/external/prince_original_manuscript_code/NeuralCoding/ncstudy/ephys.py:271: FutureWarning: Using a non-tuple sequence for multidimensional indexing is deprecated; use `arr[tuple(seq)]` instead of `arr[seq]`. In the future this will be interpreted as an array index, `arr[np.array(seq)]`, which will result either in an error or a different result.\n",
      "  return spikeTrace[1:-1][ap_thresh][0]\n"
     ]
    },
    {
     "name": "stdout",
     "output_type": "stream",
     "text": [
      "../../data/17d06-2/presyn_ids.csv\n",
      "[ 0  2  3  4  5  6 11 12 13 14]\n"
     ]
    },
    {
     "name": "stderr",
     "output_type": "stream",
     "text": [
      "/gpfs/bbp.cscs.ch/home/isbister/code/external/prince_original_manuscript_code/NeuralCoding/ncstudy/cell.py:312: RuntimeWarning: Mean of empty slice\n",
      "  synapse['delay'] = np.nanmean(synapse['delay'])\n"
     ]
    },
    {
     "name": "stdout",
     "output_type": "stream",
     "text": [
      "../../data/17d06-2\n",
      "True\n",
      "../../data/17d06-2\n",
      "True\n"
     ]
    },
    {
     "name": "stderr",
     "output_type": "stream",
     "text": [
      "  6%|▋         | 6/94 [01:15<18:16, 12.46s/it]/gpfs/bbp.cscs.ch/home/isbister/code/external/prince_original_manuscript_code/NeuralCoding/ncstudy/ephys.py:271: FutureWarning: Using a non-tuple sequence for multidimensional indexing is deprecated; use `arr[tuple(seq)]` instead of `arr[seq]`. In the future this will be interpreted as an array index, `arr[np.array(seq)]`, which will result either in an error or a different result.\n",
      "  return spikeTrace[1:-1][ap_thresh][0]\n"
     ]
    },
    {
     "name": "stdout",
     "output_type": "stream",
     "text": [
      "../../data/17d07-1/presyn_ids.csv\n",
      "[ 3  4  6  7  8  9 11 12 13 14]\n",
      "../../data/17d07-1\n",
      "True\n",
      "../../data/17d07-1\n",
      "True\n"
     ]
    },
    {
     "name": "stderr",
     "output_type": "stream",
     "text": [
      "  7%|▋         | 7/94 [01:30<19:02, 13.13s/it]/gpfs/bbp.cscs.ch/home/isbister/code/external/prince_original_manuscript_code/NeuralCoding/ncstudy/ephys.py:271: FutureWarning: Using a non-tuple sequence for multidimensional indexing is deprecated; use `arr[tuple(seq)]` instead of `arr[seq]`. In the future this will be interpreted as an array index, `arr[np.array(seq)]`, which will result either in an error or a different result.\n",
      "  return spikeTrace[1:-1][ap_thresh][0]\n"
     ]
    },
    {
     "name": "stdout",
     "output_type": "stream",
     "text": [
      "../../data/17d07-2/presyn_ids.csv\n",
      "[ 0  1  2  3  4  5  6  7  8 10]\n",
      "../../data/17d07-2\n",
      "True\n",
      "../../data/17d07-2\n",
      "True\n"
     ]
    },
    {
     "name": "stderr",
     "output_type": "stream",
     "text": [
      "  9%|▊         | 8/94 [01:42<18:25, 12.85s/it]/gpfs/bbp.cscs.ch/home/isbister/code/external/prince_original_manuscript_code/NeuralCoding/ncstudy/ephys.py:271: FutureWarning: Using a non-tuple sequence for multidimensional indexing is deprecated; use `arr[tuple(seq)]` instead of `arr[seq]`. In the future this will be interpreted as an array index, `arr[np.array(seq)]`, which will result either in an error or a different result.\n",
      "  return spikeTrace[1:-1][ap_thresh][0]\n"
     ]
    },
    {
     "name": "stdout",
     "output_type": "stream",
     "text": [
      "../../data/17d11-1/presyn_ids.csv\n",
      "[ 2  3  5  6  7  8 13 14  9 12]\n",
      "../../data/17d11-1\n",
      "True\n",
      "../../data/17d11-1\n",
      "True\n"
     ]
    },
    {
     "name": "stderr",
     "output_type": "stream",
     "text": [
      " 10%|▉         | 9/94 [01:54<17:42, 12.50s/it]/gpfs/bbp.cscs.ch/home/isbister/code/external/prince_original_manuscript_code/NeuralCoding/ncstudy/ephys.py:271: FutureWarning: Using a non-tuple sequence for multidimensional indexing is deprecated; use `arr[tuple(seq)]` instead of `arr[seq]`. In the future this will be interpreted as an array index, `arr[np.array(seq)]`, which will result either in an error or a different result.\n",
      "  return spikeTrace[1:-1][ap_thresh][0]\n"
     ]
    },
    {
     "name": "stdout",
     "output_type": "stream",
     "text": [
      "../../data/17d11-2/presyn_ids.csv\n",
      "[ 0  2  3  6  7  8  9 10 11 12]\n"
     ]
    },
    {
     "name": "stderr",
     "output_type": "stream",
     "text": [
      "/gpfs/bbp.cscs.ch/home/isbister/code/external/prince_original_manuscript_code/NeuralCoding/ncstudy/cell.py:312: RuntimeWarning: Mean of empty slice\n",
      "  synapse['delay'] = np.nanmean(synapse['delay'])\n"
     ]
    },
    {
     "name": "stdout",
     "output_type": "stream",
     "text": [
      "../../data/17d11-2\n",
      "True\n",
      "../../data/17d11-2\n",
      "True\n"
     ]
    },
    {
     "name": "stderr",
     "output_type": "stream",
     "text": [
      " 11%|█         | 10/94 [02:05<17:03, 12.18s/it]/gpfs/bbp.cscs.ch/home/isbister/code/external/prince_original_manuscript_code/NeuralCoding/ncstudy/ephys.py:271: FutureWarning: Using a non-tuple sequence for multidimensional indexing is deprecated; use `arr[tuple(seq)]` instead of `arr[seq]`. In the future this will be interpreted as an array index, `arr[np.array(seq)]`, which will result either in an error or a different result.\n",
      "  return spikeTrace[1:-1][ap_thresh][0]\n"
     ]
    },
    {
     "name": "stdout",
     "output_type": "stream",
     "text": [
      "../../data/17d11-3/presyn_ids.csv\n",
      "[ 0  1  2  5  6  8  9 10 11 14]\n",
      "../../data/17d11-3\n",
      "True\n",
      "../../data/17d11-3\n",
      "True\n"
     ]
    },
    {
     "name": "stderr",
     "output_type": "stream",
     "text": [
      " 12%|█▏        | 11/94 [02:17<16:47, 12.14s/it]/gpfs/bbp.cscs.ch/home/isbister/code/external/prince_original_manuscript_code/NeuralCoding/ncstudy/ephys.py:271: FutureWarning: Using a non-tuple sequence for multidimensional indexing is deprecated; use `arr[tuple(seq)]` instead of `arr[seq]`. In the future this will be interpreted as an array index, `arr[np.array(seq)]`, which will result either in an error or a different result.\n",
      "  return spikeTrace[1:-1][ap_thresh][0]\n"
     ]
    },
    {
     "name": "stdout",
     "output_type": "stream",
     "text": [
      "../../data/17d12-1/presyn_ids.csv\n",
      "[ 0  1  2  3  4  5  7  8  9 10]\n"
     ]
    },
    {
     "name": "stderr",
     "output_type": "stream",
     "text": [
      "/gpfs/bbp.cscs.ch/home/isbister/code/external/prince_original_manuscript_code/NeuralCoding/ncstudy/cell.py:312: RuntimeWarning: Mean of empty slice\n",
      "  synapse['delay'] = np.nanmean(synapse['delay'])\n"
     ]
    },
    {
     "name": "stdout",
     "output_type": "stream",
     "text": [
      "../../data/17d12-1\n",
      "True\n",
      "../../data/17d12-1\n",
      "True\n"
     ]
    },
    {
     "name": "stderr",
     "output_type": "stream",
     "text": [
      " 13%|█▎        | 12/94 [02:29<16:22, 11.98s/it]/gpfs/bbp.cscs.ch/home/isbister/code/external/prince_original_manuscript_code/NeuralCoding/ncstudy/ephys.py:271: FutureWarning: Using a non-tuple sequence for multidimensional indexing is deprecated; use `arr[tuple(seq)]` instead of `arr[seq]`. In the future this will be interpreted as an array index, `arr[np.array(seq)]`, which will result either in an error or a different result.\n",
      "  return spikeTrace[1:-1][ap_thresh][0]\n"
     ]
    },
    {
     "name": "stdout",
     "output_type": "stream",
     "text": [
      "../../data/17d13-1/presyn_ids.csv\n",
      "[ 2  3  4  6  8 12 13 14 15 18]\n",
      "../../data/17d13-1\n",
      "True\n",
      "../../data/17d13-1\n",
      "True\n"
     ]
    },
    {
     "name": "stderr",
     "output_type": "stream",
     "text": [
      " 14%|█▍        | 13/94 [02:49<19:34, 14.50s/it]/gpfs/bbp.cscs.ch/home/isbister/code/external/prince_original_manuscript_code/NeuralCoding/ncstudy/ephys.py:271: FutureWarning: Using a non-tuple sequence for multidimensional indexing is deprecated; use `arr[tuple(seq)]` instead of `arr[seq]`. In the future this will be interpreted as an array index, `arr[np.array(seq)]`, which will result either in an error or a different result.\n",
      "  return spikeTrace[1:-1][ap_thresh][0]\n"
     ]
    },
    {
     "name": "stdout",
     "output_type": "stream",
     "text": [
      "../../data/17d13-2/presyn_ids.csv\n",
      "[ 0  1  3  4  5  7  8  9 10 11]\n",
      "../../data/17d13-2\n",
      "True\n",
      "../../data/17d13-2\n",
      "True\n"
     ]
    },
    {
     "name": "stderr",
     "output_type": "stream",
     "text": [
      " 15%|█▍        | 14/94 [03:04<19:33, 14.67s/it]/gpfs/bbp.cscs.ch/home/isbister/code/external/prince_original_manuscript_code/NeuralCoding/ncstudy/ephys.py:271: FutureWarning: Using a non-tuple sequence for multidimensional indexing is deprecated; use `arr[tuple(seq)]` instead of `arr[seq]`. In the future this will be interpreted as an array index, `arr[np.array(seq)]`, which will result either in an error or a different result.\n",
      "  return spikeTrace[1:-1][ap_thresh][0]\n"
     ]
    },
    {
     "name": "stdout",
     "output_type": "stream",
     "text": [
      "../../data/17d13-3/presyn_ids.csv\n",
      "[ 2  3  4  5  6  7  8  9 10 11]\n",
      "../../data/17d13-3\n",
      "True\n",
      "../../data/17d13-3\n",
      "True\n"
     ]
    },
    {
     "name": "stderr",
     "output_type": "stream",
     "text": [
      " 16%|█▌        | 15/94 [03:24<21:26, 16.29s/it]/gpfs/bbp.cscs.ch/home/isbister/code/external/prince_original_manuscript_code/NeuralCoding/ncstudy/ephys.py:271: FutureWarning: Using a non-tuple sequence for multidimensional indexing is deprecated; use `arr[tuple(seq)]` instead of `arr[seq]`. In the future this will be interpreted as an array index, `arr[np.array(seq)]`, which will result either in an error or a different result.\n",
      "  return spikeTrace[1:-1][ap_thresh][0]\n"
     ]
    },
    {
     "name": "stdout",
     "output_type": "stream",
     "text": [
      "../../data/17n29-1/presyn_ids.csv\n",
      "[ 0  2  3  5  7  8 12 13 14 15]\n"
     ]
    },
    {
     "name": "stderr",
     "output_type": "stream",
     "text": [
      " 17%|█▋        | 16/94 [03:35<18:51, 14.51s/it]"
     ]
    },
    {
     "name": "stdout",
     "output_type": "stream",
     "text": [
      "../../data/17n29-1\n",
      "False\n",
      "../../data/17n29-1\n",
      "False\n"
     ]
    },
    {
     "name": "stderr",
     "output_type": "stream",
     "text": [
      "/gpfs/bbp.cscs.ch/home/isbister/code/external/prince_original_manuscript_code/NeuralCoding/ncstudy/ephys.py:271: FutureWarning: Using a non-tuple sequence for multidimensional indexing is deprecated; use `arr[tuple(seq)]` instead of `arr[seq]`. In the future this will be interpreted as an array index, `arr[np.array(seq)]`, which will result either in an error or a different result.\n",
      "  return spikeTrace[1:-1][ap_thresh][0]\n"
     ]
    },
    {
     "name": "stdout",
     "output_type": "stream",
     "text": [
      "../../data/17n29-2/presyn_ids.csv\n",
      "[ 0  1  3  4  5  7  8  9 12 13]\n",
      "../../data/17n29-2\n",
      "True\n",
      "../../data/17n29-2\n",
      "True\n"
     ]
    },
    {
     "name": "stderr",
     "output_type": "stream",
     "text": [
      " 18%|█▊        | 17/94 [03:48<18:04, 14.08s/it]/gpfs/bbp.cscs.ch/home/isbister/code/external/prince_original_manuscript_code/NeuralCoding/ncstudy/ephys.py:271: FutureWarning: Using a non-tuple sequence for multidimensional indexing is deprecated; use `arr[tuple(seq)]` instead of `arr[seq]`. In the future this will be interpreted as an array index, `arr[np.array(seq)]`, which will result either in an error or a different result.\n",
      "  return spikeTrace[1:-1][ap_thresh][0]\n"
     ]
    },
    {
     "name": "stdout",
     "output_type": "stream",
     "text": [
      "../../data/18123-1/presyn_ids.csv\n",
      "[ 0  1  2  4  5  6  7  8  9 10]\n",
      "../../data/18123-1\n",
      "True\n",
      "../../data/18123-1\n",
      "True\n"
     ]
    },
    {
     "name": "stderr",
     "output_type": "stream",
     "text": [
      " 19%|█▉        | 18/94 [04:02<17:44, 14.00s/it]/gpfs/bbp.cscs.ch/home/isbister/code/external/prince_original_manuscript_code/NeuralCoding/ncstudy/ephys.py:271: FutureWarning: Using a non-tuple sequence for multidimensional indexing is deprecated; use `arr[tuple(seq)]` instead of `arr[seq]`. In the future this will be interpreted as an array index, `arr[np.array(seq)]`, which will result either in an error or a different result.\n",
      "  return spikeTrace[1:-1][ap_thresh][0]\n"
     ]
    },
    {
     "name": "stdout",
     "output_type": "stream",
     "text": [
      "../../data/18131-1/presyn_ids.csv\n",
      "[ 0  2  3  7  9 10 11 13 14 15]\n",
      "../../data/18131-1\n",
      "True\n",
      "../../data/18131-1\n",
      "True\n"
     ]
    },
    {
     "name": "stderr",
     "output_type": "stream",
     "text": [
      " 20%|██        | 19/94 [04:13<16:37, 13.30s/it]/gpfs/bbp.cscs.ch/home/isbister/code/external/prince_original_manuscript_code/NeuralCoding/ncstudy/ephys.py:271: FutureWarning: Using a non-tuple sequence for multidimensional indexing is deprecated; use `arr[tuple(seq)]` instead of `arr[seq]`. In the future this will be interpreted as an array index, `arr[np.array(seq)]`, which will result either in an error or a different result.\n",
      "  return spikeTrace[1:-1][ap_thresh][0]\n"
     ]
    },
    {
     "name": "stdout",
     "output_type": "stream",
     "text": [
      "../../data/18131-2/presyn_ids.csv\n",
      "[ 1  2  4  5  6  7  8  9 10 13]\n"
     ]
    },
    {
     "name": "stderr",
     "output_type": "stream",
     "text": [
      "/gpfs/bbp.cscs.ch/home/isbister/code/external/prince_original_manuscript_code/NeuralCoding/ncstudy/cell.py:312: RuntimeWarning: Mean of empty slice\n",
      "  synapse['delay'] = np.nanmean(synapse['delay'])\n"
     ]
    },
    {
     "name": "stdout",
     "output_type": "stream",
     "text": [
      "../../data/18131-2\n",
      "True\n",
      "../../data/18131-2\n",
      "True\n"
     ]
    },
    {
     "name": "stderr",
     "output_type": "stream",
     "text": [
      " 21%|██▏       | 20/94 [04:24<15:37, 12.67s/it]/gpfs/bbp.cscs.ch/home/isbister/code/external/prince_original_manuscript_code/NeuralCoding/ncstudy/ephys.py:271: FutureWarning: Using a non-tuple sequence for multidimensional indexing is deprecated; use `arr[tuple(seq)]` instead of `arr[seq]`. In the future this will be interpreted as an array index, `arr[np.array(seq)]`, which will result either in an error or a different result.\n",
      "  return spikeTrace[1:-1][ap_thresh][0]\n"
     ]
    },
    {
     "name": "stdout",
     "output_type": "stream",
     "text": [
      "../../data/18201-1/presyn_ids.csv\n",
      "[ 0  4  5  6  7  9 10 11 12 13]\n",
      "../../data/18201-1\n",
      "True\n",
      "../../data/18201-1\n",
      "True\n"
     ]
    },
    {
     "name": "stderr",
     "output_type": "stream",
     "text": [
      " 22%|██▏       | 21/94 [04:36<15:07, 12.43s/it]/gpfs/bbp.cscs.ch/home/isbister/code/external/prince_original_manuscript_code/NeuralCoding/ncstudy/ephys.py:271: FutureWarning: Using a non-tuple sequence for multidimensional indexing is deprecated; use `arr[tuple(seq)]` instead of `arr[seq]`. In the future this will be interpreted as an array index, `arr[np.array(seq)]`, which will result either in an error or a different result.\n",
      "  return spikeTrace[1:-1][ap_thresh][0]\n"
     ]
    },
    {
     "name": "stdout",
     "output_type": "stream",
     "text": [
      "../../data/18201-2/presyn_ids.csv\n",
      "[ 0  1  2  4  5  7  8  9 12 15]\n",
      "../../data/18201-2\n",
      "True\n",
      "../../data/18201-2\n",
      "True\n"
     ]
    },
    {
     "name": "stderr",
     "output_type": "stream",
     "text": [
      " 23%|██▎       | 22/94 [04:53<16:18, 13.59s/it]/gpfs/bbp.cscs.ch/home/isbister/code/external/prince_original_manuscript_code/NeuralCoding/ncstudy/ephys.py:271: FutureWarning: Using a non-tuple sequence for multidimensional indexing is deprecated; use `arr[tuple(seq)]` instead of `arr[seq]`. In the future this will be interpreted as an array index, `arr[np.array(seq)]`, which will result either in an error or a different result.\n",
      "  return spikeTrace[1:-1][ap_thresh][0]\n"
     ]
    },
    {
     "name": "stdout",
     "output_type": "stream",
     "text": [
      "../../data/18202-1/presyn_ids.csv\n",
      "[ 0  1  2  3  4  5  6  7  9 12]\n",
      "../../data/18202-1\n",
      "True\n",
      "../../data/18202-1\n",
      "True\n"
     ]
    },
    {
     "name": "stderr",
     "output_type": "stream",
     "text": [
      " 24%|██▍       | 23/94 [05:07<16:16, 13.75s/it]/gpfs/bbp.cscs.ch/home/isbister/PrincePy3Env/lib/python3.8/site-packages/numpy/core/fromnumeric.py:3474: RuntimeWarning: Mean of empty slice.\n",
      "  return _methods._mean(a, axis=axis, dtype=dtype,\n",
      "/gpfs/bbp.cscs.ch/home/isbister/PrincePy3Env/lib/python3.8/site-packages/numpy/core/_methods.py:189: RuntimeWarning: invalid value encountered in double_scalars\n",
      "  ret = ret.dtype.type(ret / rcount)\n"
     ]
    },
    {
     "name": "stdout",
     "output_type": "stream",
     "text": [
      "../../data/18202-2/presyn_ids.csv\n",
      "[ 0  1  2  3  4  5  7  8  9 10]\n",
      "../../data/18202-2\n",
      "True\n",
      "../../data/18202-2\n",
      "True\n"
     ]
    },
    {
     "name": "stderr",
     "output_type": "stream",
     "text": [
      " 26%|██▌       | 24/94 [05:28<18:44, 16.06s/it]/gpfs/bbp.cscs.ch/home/isbister/code/external/prince_original_manuscript_code/NeuralCoding/ncstudy/ephys.py:271: FutureWarning: Using a non-tuple sequence for multidimensional indexing is deprecated; use `arr[tuple(seq)]` instead of `arr[seq]`. In the future this will be interpreted as an array index, `arr[np.array(seq)]`, which will result either in an error or a different result.\n",
      "  return spikeTrace[1:-1][ap_thresh][0]\n"
     ]
    },
    {
     "name": "stdout",
     "output_type": "stream",
     "text": [
      "../../data/18202-3/presyn_ids.csv\n",
      "[ 1  3  4  5  7  9 10 12 13 14]\n",
      "../../data/18202-3\n",
      "True\n",
      "../../data/18202-3\n",
      "True\n"
     ]
    },
    {
     "name": "stderr",
     "output_type": "stream",
     "text": [
      " 27%|██▋       | 25/94 [05:40<16:57, 14.75s/it]/gpfs/bbp.cscs.ch/home/isbister/code/external/prince_original_manuscript_code/NeuralCoding/ncstudy/ephys.py:271: FutureWarning: Using a non-tuple sequence for multidimensional indexing is deprecated; use `arr[tuple(seq)]` instead of `arr[seq]`. In the future this will be interpreted as an array index, `arr[np.array(seq)]`, which will result either in an error or a different result.\n",
      "  return spikeTrace[1:-1][ap_thresh][0]\n"
     ]
    },
    {
     "name": "stdout",
     "output_type": "stream",
     "text": [
      "../../data/18202-4/presyn_ids.csv\n",
      "[ 0  1  2  3  4  6  7  8  9 13]\n",
      "../../data/18202-4\n",
      "True\n",
      "../../data/18202-4\n",
      "True\n"
     ]
    },
    {
     "name": "stderr",
     "output_type": "stream",
     "text": [
      " 28%|██▊       | 26/94 [05:55<16:53, 14.91s/it]/gpfs/bbp.cscs.ch/home/isbister/code/external/prince_original_manuscript_code/NeuralCoding/ncstudy/ephys.py:271: FutureWarning: Using a non-tuple sequence for multidimensional indexing is deprecated; use `arr[tuple(seq)]` instead of `arr[seq]`. In the future this will be interpreted as an array index, `arr[np.array(seq)]`, which will result either in an error or a different result.\n",
      "  return spikeTrace[1:-1][ap_thresh][0]\n"
     ]
    },
    {
     "name": "stdout",
     "output_type": "stream",
     "text": [
      "../../data/18302-1/presyn_ids.csv\n",
      "[ 1  2  3  4  5  6  7  8  9 12]\n",
      "../../data/18302-1\n",
      "True\n",
      "../../data/18302-1\n",
      "True\n"
     ]
    },
    {
     "name": "stderr",
     "output_type": "stream",
     "text": [
      " 29%|██▊       | 27/94 [06:10<16:35, 14.87s/it]/gpfs/bbp.cscs.ch/home/isbister/code/external/prince_original_manuscript_code/NeuralCoding/ncstudy/ephys.py:271: FutureWarning: Using a non-tuple sequence for multidimensional indexing is deprecated; use `arr[tuple(seq)]` instead of `arr[seq]`. In the future this will be interpreted as an array index, `arr[np.array(seq)]`, which will result either in an error or a different result.\n",
      "  return spikeTrace[1:-1][ap_thresh][0]\n"
     ]
    },
    {
     "name": "stdout",
     "output_type": "stream",
     "text": [
      "../../data/18302-2/presyn_ids.csv\n",
      "[ 0  1  2  3  4  6  7  9 10 11]\n",
      "../../data/18302-2\n",
      "True\n",
      "../../data/18302-2\n",
      "True\n"
     ]
    },
    {
     "name": "stderr",
     "output_type": "stream",
     "text": [
      " 30%|██▉       | 28/94 [06:25<16:23, 14.90s/it]/gpfs/bbp.cscs.ch/home/isbister/code/external/prince_original_manuscript_code/NeuralCoding/ncstudy/ephys.py:271: FutureWarning: Using a non-tuple sequence for multidimensional indexing is deprecated; use `arr[tuple(seq)]` instead of `arr[seq]`. In the future this will be interpreted as an array index, `arr[np.array(seq)]`, which will result either in an error or a different result.\n",
      "  return spikeTrace[1:-1][ap_thresh][0]\n"
     ]
    },
    {
     "name": "stdout",
     "output_type": "stream",
     "text": [
      "../../data/18302-3/presyn_ids.csv\n",
      "[ 1  3  4  5  6  8  9 10 12 13]\n"
     ]
    },
    {
     "name": "stderr",
     "output_type": "stream",
     "text": [
      "/gpfs/bbp.cscs.ch/home/isbister/code/external/prince_original_manuscript_code/NeuralCoding/ncstudy/cell.py:312: RuntimeWarning: Mean of empty slice\n",
      "  synapse['delay'] = np.nanmean(synapse['delay'])\n"
     ]
    },
    {
     "name": "stdout",
     "output_type": "stream",
     "text": [
      "../../data/18302-3\n",
      "True\n",
      "../../data/18302-3\n",
      "True\n"
     ]
    },
    {
     "name": "stderr",
     "output_type": "stream",
     "text": [
      " 31%|███       | 29/94 [06:37<15:20, 14.17s/it]/gpfs/bbp.cscs.ch/home/isbister/code/external/prince_original_manuscript_code/NeuralCoding/ncstudy/ephys.py:271: FutureWarning: Using a non-tuple sequence for multidimensional indexing is deprecated; use `arr[tuple(seq)]` instead of `arr[seq]`. In the future this will be interpreted as an array index, `arr[np.array(seq)]`, which will result either in an error or a different result.\n",
      "  return spikeTrace[1:-1][ap_thresh][0]\n"
     ]
    },
    {
     "name": "stdout",
     "output_type": "stream",
     "text": [
      "../../data/18303-1/presyn_ids.csv\n",
      "[ 0  1  4  6  7  8  9 10 11 12]\n",
      "../../data/18303-1\n",
      "True\n",
      "../../data/18303-1\n",
      "True\n"
     ]
    },
    {
     "name": "stderr",
     "output_type": "stream",
     "text": [
      " 32%|███▏      | 30/94 [06:55<16:17, 15.28s/it]/gpfs/bbp.cscs.ch/home/isbister/code/external/prince_original_manuscript_code/NeuralCoding/ncstudy/ephys.py:271: FutureWarning: Using a non-tuple sequence for multidimensional indexing is deprecated; use `arr[tuple(seq)]` instead of `arr[seq]`. In the future this will be interpreted as an array index, `arr[np.array(seq)]`, which will result either in an error or a different result.\n",
      "  return spikeTrace[1:-1][ap_thresh][0]\n"
     ]
    },
    {
     "name": "stdout",
     "output_type": "stream",
     "text": [
      "../../data/18303-2/presyn_ids.csv\n",
      "[ 0  1  2  3  4  5  6 11 12 13]\n"
     ]
    },
    {
     "name": "stderr",
     "output_type": "stream",
     "text": [
      "/gpfs/bbp.cscs.ch/home/isbister/code/external/prince_original_manuscript_code/NeuralCoding/ncstudy/cell.py:312: RuntimeWarning: Mean of empty slice\n",
      "  synapse['delay'] = np.nanmean(synapse['delay'])\n"
     ]
    },
    {
     "name": "stdout",
     "output_type": "stream",
     "text": [
      "../../data/18303-2\n",
      "True\n",
      "../../data/18303-2\n",
      "True\n"
     ]
    },
    {
     "name": "stderr",
     "output_type": "stream",
     "text": [
      " 33%|███▎      | 31/94 [07:07<14:50, 14.14s/it]/gpfs/bbp.cscs.ch/home/isbister/code/external/prince_original_manuscript_code/NeuralCoding/ncstudy/ephys.py:271: FutureWarning: Using a non-tuple sequence for multidimensional indexing is deprecated; use `arr[tuple(seq)]` instead of `arr[seq]`. In the future this will be interpreted as an array index, `arr[np.array(seq)]`, which will result either in an error or a different result.\n",
      "  return spikeTrace[1:-1][ap_thresh][0]\n"
     ]
    },
    {
     "name": "stdout",
     "output_type": "stream",
     "text": [
      "../../data/18307-1/presyn_ids.csv\n",
      "[ 0  1  2  3  4  6  7 10 11 12]\n"
     ]
    },
    {
     "name": "stderr",
     "output_type": "stream",
     "text": [
      "/gpfs/bbp.cscs.ch/home/isbister/code/external/prince_original_manuscript_code/NeuralCoding/ncstudy/cell.py:312: RuntimeWarning: Mean of empty slice\n",
      "  synapse['delay'] = np.nanmean(synapse['delay'])\n"
     ]
    },
    {
     "name": "stdout",
     "output_type": "stream",
     "text": [
      "../../data/18307-1\n",
      "True\n",
      "../../data/18307-1\n",
      "True\n"
     ]
    },
    {
     "name": "stderr",
     "output_type": "stream",
     "text": [
      " 34%|███▍      | 32/94 [07:19<14:00, 13.56s/it]/gpfs/bbp.cscs.ch/home/isbister/code/external/prince_original_manuscript_code/NeuralCoding/ncstudy/ephys.py:271: FutureWarning: Using a non-tuple sequence for multidimensional indexing is deprecated; use `arr[tuple(seq)]` instead of `arr[seq]`. In the future this will be interpreted as an array index, `arr[np.array(seq)]`, which will result either in an error or a different result.\n",
      "  return spikeTrace[1:-1][ap_thresh][0]\n"
     ]
    },
    {
     "name": "stdout",
     "output_type": "stream",
     "text": [
      "../../data/18307-2/presyn_ids.csv\n",
      "[ 0  2  3  4  5  7  8 10 11 13]\n",
      "../../data/18307-2\n",
      "True\n",
      "../../data/18307-2\n",
      "True\n"
     ]
    },
    {
     "name": "stderr",
     "output_type": "stream",
     "text": [
      "/gpfs/bbp.cscs.ch/home/isbister/PrincePy3Env/lib/python3.8/site-packages/sklearn/mixture/_base.py:277: ConvergenceWarning: Initialization 30 did not converge. Try different init parameters, or increase max_iter, tol or check for degenerate data.\n",
      "  warnings.warn(\n",
      " 35%|███▌      | 33/94 [07:50<19:10, 18.86s/it]/gpfs/bbp.cscs.ch/home/isbister/code/external/prince_original_manuscript_code/NeuralCoding/ncstudy/ephys.py:271: FutureWarning: Using a non-tuple sequence for multidimensional indexing is deprecated; use `arr[tuple(seq)]` instead of `arr[seq]`. In the future this will be interpreted as an array index, `arr[np.array(seq)]`, which will result either in an error or a different result.\n",
      "  return spikeTrace[1:-1][ap_thresh][0]\n"
     ]
    },
    {
     "name": "stdout",
     "output_type": "stream",
     "text": [
      "../../data/18308-1/presyn_ids.csv\n",
      "[ 0  1  2  3  4  5  6  7  8 10]\n",
      "../../data/18308-1\n",
      "True\n",
      "../../data/18308-1\n",
      "True\n"
     ]
    },
    {
     "name": "stderr",
     "output_type": "stream",
     "text": [
      " 36%|███▌      | 34/94 [08:14<20:16, 20.27s/it]/gpfs/bbp.cscs.ch/home/isbister/code/external/prince_original_manuscript_code/NeuralCoding/ncstudy/ephys.py:271: FutureWarning: Using a non-tuple sequence for multidimensional indexing is deprecated; use `arr[tuple(seq)]` instead of `arr[seq]`. In the future this will be interpreted as an array index, `arr[np.array(seq)]`, which will result either in an error or a different result.\n",
      "  return spikeTrace[1:-1][ap_thresh][0]\n"
     ]
    },
    {
     "name": "stdout",
     "output_type": "stream",
     "text": [
      "../../data/18308-2/presyn_ids.csv\n",
      "[ 0  1  2  3  4  5  6  7  8 11]\n",
      "../../data/18308-2\n",
      "True\n",
      "../../data/18308-2\n",
      "True\n"
     ]
    },
    {
     "name": "stderr",
     "output_type": "stream",
     "text": [
      " 37%|███▋      | 35/94 [08:30<18:38, 18.95s/it]/gpfs/bbp.cscs.ch/home/isbister/code/external/prince_original_manuscript_code/NeuralCoding/ncstudy/ephys.py:271: FutureWarning: Using a non-tuple sequence for multidimensional indexing is deprecated; use `arr[tuple(seq)]` instead of `arr[seq]`. In the future this will be interpreted as an array index, `arr[np.array(seq)]`, which will result either in an error or a different result.\n",
      "  return spikeTrace[1:-1][ap_thresh][0]\n"
     ]
    },
    {
     "name": "stdout",
     "output_type": "stream",
     "text": [
      "../../data/18315-1/presyn_ids.csv\n",
      "[ 0  1  2  6  7  8  9 10 12 13]\n"
     ]
    },
    {
     "name": "stderr",
     "output_type": "stream",
     "text": [
      "/gpfs/bbp.cscs.ch/home/isbister/code/external/prince_original_manuscript_code/NeuralCoding/ncstudy/cell.py:312: RuntimeWarning: Mean of empty slice\n",
      "  synapse['delay'] = np.nanmean(synapse['delay'])\n"
     ]
    },
    {
     "name": "stdout",
     "output_type": "stream",
     "text": [
      "../../data/18315-1\n",
      "True\n",
      "../../data/18315-1\n",
      "True\n"
     ]
    },
    {
     "name": "stderr",
     "output_type": "stream",
     "text": [
      " 38%|███▊      | 36/94 [08:43<16:36, 17.18s/it]/gpfs/bbp.cscs.ch/home/isbister/code/external/prince_original_manuscript_code/NeuralCoding/ncstudy/ephys.py:271: FutureWarning: Using a non-tuple sequence for multidimensional indexing is deprecated; use `arr[tuple(seq)]` instead of `arr[seq]`. In the future this will be interpreted as an array index, `arr[np.array(seq)]`, which will result either in an error or a different result.\n",
      "  return spikeTrace[1:-1][ap_thresh][0]\n"
     ]
    },
    {
     "name": "stdout",
     "output_type": "stream",
     "text": [
      "../../data/18316-1/presyn_ids.csv\n",
      "[ 2  3  6  7  8  9 10 11 12 14]\n"
     ]
    },
    {
     "name": "stderr",
     "output_type": "stream",
     "text": [
      "/gpfs/bbp.cscs.ch/home/isbister/code/external/prince_original_manuscript_code/NeuralCoding/ncstudy/cell.py:312: RuntimeWarning: Mean of empty slice\n",
      "  synapse['delay'] = np.nanmean(synapse['delay'])\n"
     ]
    },
    {
     "name": "stdout",
     "output_type": "stream",
     "text": [
      "../../data/18316-1\n",
      "True\n",
      "../../data/18316-1\n",
      "True\n"
     ]
    },
    {
     "name": "stderr",
     "output_type": "stream",
     "text": [
      " 39%|███▉      | 37/94 [08:56<15:09, 15.96s/it]/gpfs/bbp.cscs.ch/home/isbister/code/external/prince_original_manuscript_code/NeuralCoding/ncstudy/ephys.py:271: FutureWarning: Using a non-tuple sequence for multidimensional indexing is deprecated; use `arr[tuple(seq)]` instead of `arr[seq]`. In the future this will be interpreted as an array index, `arr[np.array(seq)]`, which will result either in an error or a different result.\n",
      "  return spikeTrace[1:-1][ap_thresh][0]\n"
     ]
    },
    {
     "name": "stdout",
     "output_type": "stream",
     "text": [
      "../../data/18316-2/presyn_ids.csv\n",
      "[ 0  1  2  3  4  5  6  8  9 11]\n",
      "../../data/18316-2\n",
      "True\n",
      "../../data/18316-2\n",
      "True\n"
     ]
    },
    {
     "name": "stderr",
     "output_type": "stream",
     "text": [
      " 40%|████      | 38/94 [09:10<14:28, 15.51s/it]/gpfs/bbp.cscs.ch/home/isbister/code/external/prince_original_manuscript_code/NeuralCoding/ncstudy/ephys.py:271: FutureWarning: Using a non-tuple sequence for multidimensional indexing is deprecated; use `arr[tuple(seq)]` instead of `arr[seq]`. In the future this will be interpreted as an array index, `arr[np.array(seq)]`, which will result either in an error or a different result.\n",
      "  return spikeTrace[1:-1][ap_thresh][0]\n"
     ]
    },
    {
     "name": "stdout",
     "output_type": "stream",
     "text": [
      "../../data/18319-1/presyn_ids.csv\n",
      "[ 0  1  2  3  4  6  7  8  9 10]\n",
      "../../data/18319-1\n",
      "True\n",
      "../../data/18319-1\n",
      "True\n"
     ]
    },
    {
     "name": "stderr",
     "output_type": "stream",
     "text": [
      " 41%|████▏     | 39/94 [09:25<14:04, 15.35s/it]/gpfs/bbp.cscs.ch/home/isbister/code/external/prince_original_manuscript_code/NeuralCoding/ncstudy/ephys.py:271: FutureWarning: Using a non-tuple sequence for multidimensional indexing is deprecated; use `arr[tuple(seq)]` instead of `arr[seq]`. In the future this will be interpreted as an array index, `arr[np.array(seq)]`, which will result either in an error or a different result.\n",
      "  return spikeTrace[1:-1][ap_thresh][0]\n"
     ]
    },
    {
     "name": "stdout",
     "output_type": "stream",
     "text": [
      "../../data/18319-2/presyn_ids.csv\n",
      "[ 0  1  2  3  4  5  7  8 11 12]\n",
      "../../data/18319-2\n",
      "True\n",
      "../../data/18319-2\n",
      "True\n"
     ]
    },
    {
     "name": "stderr",
     "output_type": "stream",
     "text": [
      " 43%|████▎     | 40/94 [09:39<13:26, 14.93s/it]/gpfs/bbp.cscs.ch/home/isbister/code/external/prince_original_manuscript_code/NeuralCoding/ncstudy/ephys.py:271: FutureWarning: Using a non-tuple sequence for multidimensional indexing is deprecated; use `arr[tuple(seq)]` instead of `arr[seq]`. In the future this will be interpreted as an array index, `arr[np.array(seq)]`, which will result either in an error or a different result.\n",
      "  return spikeTrace[1:-1][ap_thresh][0]\n"
     ]
    },
    {
     "name": "stdout",
     "output_type": "stream",
     "text": [
      "../../data/18320-1/presyn_ids.csv\n",
      "[ 0  1  3  4  7  8  9 10 11 12]\n",
      "../../data/18320-1\n",
      "True\n",
      "../../data/18320-1\n",
      "True\n"
     ]
    },
    {
     "name": "stderr",
     "output_type": "stream",
     "text": [
      "/gpfs/bbp.cscs.ch/home/isbister/PrincePy3Env/lib/python3.8/site-packages/sklearn/mixture/_base.py:277: ConvergenceWarning: Initialization 30 did not converge. Try different init parameters, or increase max_iter, tol or check for degenerate data.\n",
      "  warnings.warn(\n",
      " 44%|████▎     | 41/94 [10:09<17:07, 19.38s/it]/gpfs/bbp.cscs.ch/home/isbister/code/external/prince_original_manuscript_code/NeuralCoding/ncstudy/ephys.py:271: FutureWarning: Using a non-tuple sequence for multidimensional indexing is deprecated; use `arr[tuple(seq)]` instead of `arr[seq]`. In the future this will be interpreted as an array index, `arr[np.array(seq)]`, which will result either in an error or a different result.\n",
      "  return spikeTrace[1:-1][ap_thresh][0]\n"
     ]
    },
    {
     "name": "stdout",
     "output_type": "stream",
     "text": [
      "../../data/18321-1/presyn_ids.csv\n",
      "[ 0  1  2  3  4  5  6  8  9 10]\n",
      "../../data/18321-1\n",
      "True\n",
      "../../data/18321-1\n",
      "True\n"
     ]
    },
    {
     "name": "stderr",
     "output_type": "stream",
     "text": [
      " 45%|████▍     | 42/94 [10:22<15:15, 17.60s/it]/gpfs/bbp.cscs.ch/home/isbister/code/external/prince_original_manuscript_code/NeuralCoding/ncstudy/ephys.py:271: FutureWarning: Using a non-tuple sequence for multidimensional indexing is deprecated; use `arr[tuple(seq)]` instead of `arr[seq]`. In the future this will be interpreted as an array index, `arr[np.array(seq)]`, which will result either in an error or a different result.\n",
      "  return spikeTrace[1:-1][ap_thresh][0]\n"
     ]
    },
    {
     "name": "stdout",
     "output_type": "stream",
     "text": [
      "../../data/18321-2/presyn_ids.csv\n",
      "[ 0  1  4  5  6  7  8  9 10 12]\n",
      "../../data/18321-2\n",
      "True\n",
      "../../data/18321-2\n",
      "True\n"
     ]
    },
    {
     "name": "stderr",
     "output_type": "stream",
     "text": [
      "/gpfs/bbp.cscs.ch/home/isbister/PrincePy3Env/lib/python3.8/site-packages/sklearn/mixture/_base.py:277: ConvergenceWarning: Initialization 30 did not converge. Try different init parameters, or increase max_iter, tol or check for degenerate data.\n",
      "  warnings.warn(\n",
      " 46%|████▌     | 43/94 [10:51<17:41, 20.82s/it]/gpfs/bbp.cscs.ch/home/isbister/code/external/prince_original_manuscript_code/NeuralCoding/ncstudy/ephys.py:271: FutureWarning: Using a non-tuple sequence for multidimensional indexing is deprecated; use `arr[tuple(seq)]` instead of `arr[seq]`. In the future this will be interpreted as an array index, `arr[np.array(seq)]`, which will result either in an error or a different result.\n",
      "  return spikeTrace[1:-1][ap_thresh][0]\n"
     ]
    },
    {
     "name": "stdout",
     "output_type": "stream",
     "text": [
      "../../data/18327-1/presyn_ids.csv\n",
      "[ 1  2  3  5  6  8 10 11 12 13]\n",
      "../../data/18327-1\n",
      "True\n",
      "../../data/18327-1\n",
      "True\n"
     ]
    },
    {
     "name": "stderr",
     "output_type": "stream",
     "text": [
      "/gpfs/bbp.cscs.ch/home/isbister/PrincePy3Env/lib/python3.8/site-packages/sklearn/mixture/_base.py:277: ConvergenceWarning: Initialization 30 did not converge. Try different init parameters, or increase max_iter, tol or check for degenerate data.\n",
      "  warnings.warn(\n",
      " 47%|████▋     | 44/94 [11:17<18:48, 22.56s/it]/gpfs/bbp.cscs.ch/home/isbister/code/external/prince_original_manuscript_code/NeuralCoding/ncstudy/ephys.py:271: FutureWarning: Using a non-tuple sequence for multidimensional indexing is deprecated; use `arr[tuple(seq)]` instead of `arr[seq]`. In the future this will be interpreted as an array index, `arr[np.array(seq)]`, which will result either in an error or a different result.\n",
      "  return spikeTrace[1:-1][ap_thresh][0]\n"
     ]
    },
    {
     "name": "stdout",
     "output_type": "stream",
     "text": [
      "../../data/18327-2/presyn_ids.csv\n",
      "[ 1  4  5  6  7  9 11 12 13 15]\n",
      "../../data/18327-2\n",
      "True\n",
      "../../data/18327-2\n",
      "True\n"
     ]
    },
    {
     "name": "stderr",
     "output_type": "stream",
     "text": [
      " 48%|████▊     | 45/94 [11:32<16:34, 20.30s/it]/gpfs/bbp.cscs.ch/home/isbister/code/external/prince_original_manuscript_code/NeuralCoding/ncstudy/ephys.py:271: FutureWarning: Using a non-tuple sequence for multidimensional indexing is deprecated; use `arr[tuple(seq)]` instead of `arr[seq]`. In the future this will be interpreted as an array index, `arr[np.array(seq)]`, which will result either in an error or a different result.\n",
      "  return spikeTrace[1:-1][ap_thresh][0]\n"
     ]
    },
    {
     "name": "stdout",
     "output_type": "stream",
     "text": [
      "../../data/18328-3/presyn_ids.csv\n",
      "[ 0  2  3  4  5  6  7  8 10 12]\n",
      "../../data/18328-3\n",
      "True\n",
      "../../data/18328-3\n",
      "True\n"
     ]
    },
    {
     "name": "stderr",
     "output_type": "stream",
     "text": [
      " 49%|████▉     | 46/94 [11:47<14:51, 18.57s/it]/gpfs/bbp.cscs.ch/home/isbister/code/external/prince_original_manuscript_code/NeuralCoding/ncstudy/ephys.py:271: FutureWarning: Using a non-tuple sequence for multidimensional indexing is deprecated; use `arr[tuple(seq)]` instead of `arr[seq]`. In the future this will be interpreted as an array index, `arr[np.array(seq)]`, which will result either in an error or a different result.\n",
      "  return spikeTrace[1:-1][ap_thresh][0]\n"
     ]
    },
    {
     "name": "stdout",
     "output_type": "stream",
     "text": [
      "../../data/18402-1/presyn_ids.csv\n",
      "[ 0  1  3  4  5  7  8  9 12 13]\n",
      "../../data/18402-1\n",
      "True\n",
      "../../data/18402-1\n",
      "True\n"
     ]
    },
    {
     "name": "stderr",
     "output_type": "stream",
     "text": [
      " 50%|█████     | 47/94 [12:07<15:01, 19.18s/it]/gpfs/bbp.cscs.ch/home/isbister/code/external/prince_original_manuscript_code/NeuralCoding/ncstudy/ephys.py:271: FutureWarning: Using a non-tuple sequence for multidimensional indexing is deprecated; use `arr[tuple(seq)]` instead of `arr[seq]`. In the future this will be interpreted as an array index, `arr[np.array(seq)]`, which will result either in an error or a different result.\n",
      "  return spikeTrace[1:-1][ap_thresh][0]\n"
     ]
    },
    {
     "name": "stdout",
     "output_type": "stream",
     "text": [
      "../../data/18402-2/presyn_ids.csv\n",
      "[ 0  1  2  3  5  6  7  8  9 11]\n"
     ]
    },
    {
     "name": "stderr",
     "output_type": "stream",
     "text": [
      "/gpfs/bbp.cscs.ch/home/isbister/code/external/prince_original_manuscript_code/NeuralCoding/ncstudy/cell.py:312: RuntimeWarning: Mean of empty slice\n",
      "  synapse['delay'] = np.nanmean(synapse['delay'])\n"
     ]
    },
    {
     "name": "stdout",
     "output_type": "stream",
     "text": [
      "../../data/18402-2\n",
      "True\n",
      "../../data/18402-2\n",
      "True\n"
     ]
    },
    {
     "name": "stderr",
     "output_type": "stream",
     "text": [
      " 51%|█████     | 48/94 [12:21<13:22, 17.44s/it]/gpfs/bbp.cscs.ch/home/isbister/code/external/prince_original_manuscript_code/NeuralCoding/ncstudy/ephys.py:271: FutureWarning: Using a non-tuple sequence for multidimensional indexing is deprecated; use `arr[tuple(seq)]` instead of `arr[seq]`. In the future this will be interpreted as an array index, `arr[np.array(seq)]`, which will result either in an error or a different result.\n",
      "  return spikeTrace[1:-1][ap_thresh][0]\n"
     ]
    },
    {
     "name": "stdout",
     "output_type": "stream",
     "text": [
      "../../data/18402-3/presyn_ids.csv\n",
      "[ 0  1  3  5  6  7  8  9 10 13]\n",
      "../../data/18402-3\n",
      "True\n",
      "../../data/18402-3\n",
      "True\n"
     ]
    },
    {
     "name": "stderr",
     "output_type": "stream",
     "text": [
      " 52%|█████▏    | 49/94 [12:44<14:22, 19.16s/it]/gpfs/bbp.cscs.ch/home/isbister/code/external/prince_original_manuscript_code/NeuralCoding/ncstudy/ephys.py:271: FutureWarning: Using a non-tuple sequence for multidimensional indexing is deprecated; use `arr[tuple(seq)]` instead of `arr[seq]`. In the future this will be interpreted as an array index, `arr[np.array(seq)]`, which will result either in an error or a different result.\n",
      "  return spikeTrace[1:-1][ap_thresh][0]\n"
     ]
    },
    {
     "name": "stdout",
     "output_type": "stream",
     "text": [
      "../../data/18404-1/presyn_ids.csv\n",
      "[ 2  3  4  6  7  8  9 10 11 12]\n",
      "../../data/18404-1\n",
      "True\n",
      "../../data/18404-1\n",
      "True\n"
     ]
    },
    {
     "name": "stderr",
     "output_type": "stream",
     "text": [
      " 53%|█████▎    | 50/94 [13:03<14:01, 19.13s/it]/gpfs/bbp.cscs.ch/home/isbister/code/external/prince_original_manuscript_code/NeuralCoding/ncstudy/ephys.py:271: FutureWarning: Using a non-tuple sequence for multidimensional indexing is deprecated; use `arr[tuple(seq)]` instead of `arr[seq]`. In the future this will be interpreted as an array index, `arr[np.array(seq)]`, which will result either in an error or a different result.\n",
      "  return spikeTrace[1:-1][ap_thresh][0]\n"
     ]
    },
    {
     "name": "stdout",
     "output_type": "stream",
     "text": [
      "../../data/18412-1/presyn_ids.csv\n",
      "[0 1 2 3 4 5 6 7 8 9]\n",
      "../../data/18412-1\n",
      "True\n",
      "../../data/18412-1\n",
      "True\n"
     ]
    },
    {
     "name": "stderr",
     "output_type": "stream",
     "text": [
      " 54%|█████▍    | 51/94 [13:16<12:29, 17.42s/it]/gpfs/bbp.cscs.ch/home/isbister/code/external/prince_original_manuscript_code/NeuralCoding/ncstudy/ephys.py:271: FutureWarning: Using a non-tuple sequence for multidimensional indexing is deprecated; use `arr[tuple(seq)]` instead of `arr[seq]`. In the future this will be interpreted as an array index, `arr[np.array(seq)]`, which will result either in an error or a different result.\n",
      "  return spikeTrace[1:-1][ap_thresh][0]\n"
     ]
    },
    {
     "name": "stdout",
     "output_type": "stream",
     "text": [
      "../../data/18412-2/presyn_ids.csv\n",
      "[ 4  5  6  7  8  9 10 11 12 13]\n",
      "../../data/18412-2\n",
      "True\n",
      "../../data/18412-2\n",
      "True\n"
     ]
    },
    {
     "name": "stderr",
     "output_type": "stream",
     "text": [
      " 55%|█████▌    | 52/94 [13:28<10:55, 15.60s/it]/gpfs/bbp.cscs.ch/home/isbister/code/external/prince_original_manuscript_code/NeuralCoding/ncstudy/ephys.py:271: FutureWarning: Using a non-tuple sequence for multidimensional indexing is deprecated; use `arr[tuple(seq)]` instead of `arr[seq]`. In the future this will be interpreted as an array index, `arr[np.array(seq)]`, which will result either in an error or a different result.\n",
      "  return spikeTrace[1:-1][ap_thresh][0]\n"
     ]
    },
    {
     "name": "stdout",
     "output_type": "stream",
     "text": [
      "../../data/18412-3/presyn_ids.csv\n",
      "[ 0  1  3  4  6  7  8  9 10 11]\n",
      "../../data/18412-3\n",
      "True\n",
      "../../data/18412-3\n",
      "True\n"
     ]
    },
    {
     "name": "stderr",
     "output_type": "stream",
     "text": [
      " 56%|█████▋    | 53/94 [13:45<11:02, 16.16s/it]/gpfs/bbp.cscs.ch/home/isbister/code/external/prince_original_manuscript_code/NeuralCoding/ncstudy/ephys.py:271: FutureWarning: Using a non-tuple sequence for multidimensional indexing is deprecated; use `arr[tuple(seq)]` instead of `arr[seq]`. In the future this will be interpreted as an array index, `arr[np.array(seq)]`, which will result either in an error or a different result.\n",
      "  return spikeTrace[1:-1][ap_thresh][0]\n"
     ]
    },
    {
     "name": "stdout",
     "output_type": "stream",
     "text": [
      "../../data/18418-1/presyn_ids.csv\n",
      "[ 0  1  2  3  5  6  8  9 10 11]\n",
      "../../data/18418-1\n",
      "True\n",
      "../../data/18418-1\n",
      "True\n"
     ]
    },
    {
     "name": "stderr",
     "output_type": "stream",
     "text": [
      "/gpfs/bbp.cscs.ch/home/isbister/PrincePy3Env/lib/python3.8/site-packages/sklearn/mixture/_base.py:277: ConvergenceWarning: Initialization 30 did not converge. Try different init parameters, or increase max_iter, tol or check for degenerate data.\n",
      "  warnings.warn(\n",
      " 57%|█████▋    | 54/94 [14:25<15:34, 23.36s/it]/gpfs/bbp.cscs.ch/home/isbister/code/external/prince_original_manuscript_code/NeuralCoding/ncstudy/ephys.py:271: FutureWarning: Using a non-tuple sequence for multidimensional indexing is deprecated; use `arr[tuple(seq)]` instead of `arr[seq]`. In the future this will be interpreted as an array index, `arr[np.array(seq)]`, which will result either in an error or a different result.\n",
      "  return spikeTrace[1:-1][ap_thresh][0]\n"
     ]
    },
    {
     "name": "stdout",
     "output_type": "stream",
     "text": [
      "../../data/18425-1/presyn_ids.csv\n",
      "[ 0  1  2  3  4  5  6  7  8 10]\n"
     ]
    },
    {
     "name": "stderr",
     "output_type": "stream",
     "text": [
      "/gpfs/bbp.cscs.ch/home/isbister/code/external/prince_original_manuscript_code/NeuralCoding/ncstudy/cell.py:312: RuntimeWarning: Mean of empty slice\n",
      "  synapse['delay'] = np.nanmean(synapse['delay'])\n"
     ]
    },
    {
     "name": "stdout",
     "output_type": "stream",
     "text": [
      "../../data/18425-1\n",
      "True\n",
      "../../data/18425-1\n",
      "True\n"
     ]
    },
    {
     "name": "stderr",
     "output_type": "stream",
     "text": [
      " 59%|█████▊    | 55/94 [14:37<12:52, 19.80s/it]/gpfs/bbp.cscs.ch/home/isbister/code/external/prince_original_manuscript_code/NeuralCoding/ncstudy/ephys.py:271: FutureWarning: Using a non-tuple sequence for multidimensional indexing is deprecated; use `arr[tuple(seq)]` instead of `arr[seq]`. In the future this will be interpreted as an array index, `arr[np.array(seq)]`, which will result either in an error or a different result.\n",
      "  return spikeTrace[1:-1][ap_thresh][0]\n"
     ]
    },
    {
     "name": "stdout",
     "output_type": "stream",
     "text": [
      "../../data/18426-1/presyn_ids.csv\n",
      "[ 0  1  2  3  4  5  6  7  9 10]\n"
     ]
    },
    {
     "name": "stderr",
     "output_type": "stream",
     "text": [
      "/gpfs/bbp.cscs.ch/home/isbister/code/external/prince_original_manuscript_code/NeuralCoding/ncstudy/cell.py:312: RuntimeWarning: Mean of empty slice\n",
      "  synapse['delay'] = np.nanmean(synapse['delay'])\n"
     ]
    },
    {
     "name": "stdout",
     "output_type": "stream",
     "text": [
      "../../data/18426-1\n",
      "True\n",
      "../../data/18426-1\n",
      "True\n"
     ]
    },
    {
     "name": "stderr",
     "output_type": "stream",
     "text": [
      " 60%|█████▉    | 56/94 [14:48<10:58, 17.33s/it]/gpfs/bbp.cscs.ch/home/isbister/code/external/prince_original_manuscript_code/NeuralCoding/ncstudy/ephys.py:271: FutureWarning: Using a non-tuple sequence for multidimensional indexing is deprecated; use `arr[tuple(seq)]` instead of `arr[seq]`. In the future this will be interpreted as an array index, `arr[np.array(seq)]`, which will result either in an error or a different result.\n",
      "  return spikeTrace[1:-1][ap_thresh][0]\n"
     ]
    },
    {
     "name": "stdout",
     "output_type": "stream",
     "text": [
      "../../data/18518-1/presyn_ids.csv\n",
      "[ 1  2  3  4  5  6  7  8  9 11]\n",
      "../../data/18518-1\n",
      "True\n",
      "../../data/18518-1\n",
      "True\n"
     ]
    }
   ],
   "source": [
    "A = analysis.Analysis('../../data')\n",
    "A.run(fig_dir='../../figures/manuscript');\n",
    "# A = analysis.Analysis('./data')\n",
    "# A.run(fig_dir='./figures/manuscript');"
   ]
  },
  {
   "cell_type": "code",
   "execution_count": null,
   "metadata": {
    "collapsed": false,
    "jupyter": {
     "outputs_hidden": false
    }
   },
   "outputs": [],
   "source": [
    "A.fig_ephys"
   ]
  },
  {
   "cell_type": "code",
   "execution_count": null,
   "metadata": {
    "collapsed": false,
    "jupyter": {
     "outputs_hidden": false
    }
   },
   "outputs": [],
   "source": [
    "A.fig_fi"
   ]
  },
  {
   "cell_type": "code",
   "execution_count": null,
   "metadata": {
    "collapsed": false,
    "jupyter": {
     "outputs_hidden": false
    }
   },
   "outputs": [],
   "source": [
    "A.fig_scatter"
   ]
  },
  {
   "cell_type": "code",
   "execution_count": null,
   "metadata": {
    "collapsed": false,
    "jupyter": {
     "outputs_hidden": false
    }
   },
   "outputs": [],
   "source": [
    "A.fig_pca"
   ]
  },
  {
   "cell_type": "code",
   "execution_count": null,
   "metadata": {
    "collapsed": false,
    "jupyter": {
     "outputs_hidden": false
    }
   },
   "outputs": [],
   "source": [
    "import matplotlib.pyplot as plt\n",
    "\n",
    "ax = A.fig_dend.axes[0]\n",
    "fluors = ['NF', 'PV+', 'SST+']\n",
    "colors = ['#F5A623', '#4A90E2', '#7ED321']\n",
    "for tl in ax.xaxis.get_ticklabels():\n",
    "    color = [c for c,fl in zip(colors, fluors) if fl == tl.get_text()][0]\n",
    "    tl.set_color(color)\n",
    "    \n",
    "ax.set_xlabel('Cell type', fontsize=16)\n",
    "ax.set_ylabel('Distance', fontsize=16)\n",
    "A.fig_dend"
   ]
  },
  {
   "cell_type": "code",
   "execution_count": null,
   "metadata": {
    "collapsed": false,
    "jupyter": {
     "outputs_hidden": false
    }
   },
   "outputs": [],
   "source": [
    "A.fig_monorel"
   ]
  },
  {
   "cell_type": "code",
   "execution_count": null,
   "metadata": {
    "collapsed": false,
    "jupyter": {
     "outputs_hidden": false
    }
   },
   "outputs": [],
   "source": [
    "A.fig_mean_dly"
   ]
  },
  {
   "cell_type": "code",
   "execution_count": null,
   "metadata": {
    "collapsed": false,
    "jupyter": {
     "outputs_hidden": false
    }
   },
   "outputs": [],
   "source": [
    "A.fig_max_dly"
   ]
  },
  {
   "cell_type": "code",
   "execution_count": null,
   "metadata": {
    "collapsed": false,
    "jupyter": {
     "outputs_hidden": false
    }
   },
   "outputs": [],
   "source": [
    "A.results['Rate']['Spikes']['mono']['fig']"
   ]
  },
  {
   "cell_type": "code",
   "execution_count": null,
   "metadata": {
    "collapsed": false,
    "jupyter": {
     "outputs_hidden": false
    }
   },
   "outputs": [],
   "source": [
    "A.results['Rate']['Spikes']['poly']['fig']"
   ]
  },
  {
   "cell_type": "code",
   "execution_count": null,
   "metadata": {
    "collapsed": false,
    "jupyter": {
     "outputs_hidden": false
    }
   },
   "outputs": [],
   "source": [
    "A.results['Rate']['Spikes']['all']['fig']"
   ]
  },
  {
   "cell_type": "code",
   "execution_count": null,
   "metadata": {
    "collapsed": false,
    "jupyter": {
     "outputs_hidden": false
    }
   },
   "outputs": [],
   "source": [
    "A.results['Temporal']['Spikes']['mono']['fig']"
   ]
  },
  {
   "cell_type": "code",
   "execution_count": null,
   "metadata": {
    "collapsed": false,
    "jupyter": {
     "outputs_hidden": false
    }
   },
   "outputs": [],
   "source": [
    "A.results['Temporal']['Spikes']['poly']['fig']"
   ]
  },
  {
   "cell_type": "code",
   "execution_count": null,
   "metadata": {
    "collapsed": false,
    "jupyter": {
     "outputs_hidden": false
    }
   },
   "outputs": [],
   "source": [
    "A.results['Temporal']['Spikes']['all']['fig']"
   ]
  },
  {
   "cell_type": "code",
   "execution_count": null,
   "metadata": {
    "collapsed": false,
    "jupyter": {
     "outputs_hidden": false
    }
   },
   "outputs": [],
   "source": [
    "A.results['Rate']['Average Vm']['mono']['fig']"
   ]
  },
  {
   "cell_type": "code",
   "execution_count": null,
   "metadata": {
    "collapsed": false,
    "jupyter": {
     "outputs_hidden": false
    }
   },
   "outputs": [],
   "source": [
    "A.results['Rate']['Average Vm']['poly']['fig']"
   ]
  },
  {
   "cell_type": "code",
   "execution_count": null,
   "metadata": {
    "collapsed": false,
    "jupyter": {
     "outputs_hidden": false
    }
   },
   "outputs": [],
   "source": [
    "A.results['Rate']['Average Vm']['all']['fig']"
   ]
  },
  {
   "cell_type": "code",
   "execution_count": null,
   "metadata": {
    "collapsed": false,
    "jupyter": {
     "outputs_hidden": false
    }
   },
   "outputs": [],
   "source": [
    "A.results['Temporal']['Average Vm']['mono']['fig']"
   ]
  },
  {
   "cell_type": "code",
   "execution_count": null,
   "metadata": {
    "collapsed": false,
    "jupyter": {
     "outputs_hidden": false
    }
   },
   "outputs": [],
   "source": [
    "A.results['Temporal']['Average Vm']['poly']['fig']"
   ]
  },
  {
   "cell_type": "code",
   "execution_count": null,
   "metadata": {
    "collapsed": false,
    "jupyter": {
     "outputs_hidden": false
    }
   },
   "outputs": [],
   "source": [
    "A.results['Temporal']['Average Vm']['all']['fig']"
   ]
  },
  {
   "cell_type": "markdown",
   "metadata": {},
   "source": [
    "## Clustering"
   ]
  },
  {
   "cell_type": "code",
   "execution_count": null,
   "metadata": {
    "collapsed": false,
    "jupyter": {
     "outputs_hidden": false
    }
   },
   "outputs": [],
   "source": [
    "from pandas.plotting import scatter_matrix\n",
    "import numpy as np\n",
    "import matplotlib.pyplot as plt\n",
    "\n",
    "df_ephys_transform = A.df_ephys.drop(['Adaptation Ratio', 'Vrest (mV)'], 1)\n",
    "df_ephys_transform['log(Adaptation Ratio)'] = A.df_ephys['Adaptation Ratio'].apply(np.log)\n",
    "axs = scatter_matrix(df_ephys_transform, alpha=0.2,figsize=(13,13), diagonal='kde')\n",
    "for ax in np.ravel(axs):\n",
    "    ax.set_xlabel(ax.get_xlabel().replace(' ', '\\n'), fontsize=11)\n",
    "    ax.set_ylabel(ax.get_ylabel().replace(' ', '\\n'), fontsize=11)\n",
    "    ax.spines['top'].set_visible(True)\n",
    "    ax.spines['right'].set_visible(True)\n",
    "    ax.yaxis.set_label_coords(-0.4, 0.5)\n",
    "    ax.xaxis.set_label_coords(0.5, -0.4)\n",
    "\n",
    "fig = plt.gcf()"
   ]
  },
  {
   "cell_type": "code",
   "execution_count": null,
   "metadata": {
    "collapsed": false,
    "jupyter": {
     "outputs_hidden": false
    }
   },
   "outputs": [],
   "source": [
    "from sklearn.decomposition import PCA\n",
    "from sklearn.preprocessing import StandardScaler, Imputer\n",
    "import pandas as pd\n",
    "\n",
    "features = df_ephys_transform.columns.values[2:]\n",
    "x = df_ephys_transform.loc[:,features].values\n",
    "y = df_ephys_transform.loc[:,['Fluorescence']].values\n",
    "\n",
    "#standardize data, used Imputer to handle NaN entries\n",
    "imp = Imputer(strategy=\"mean\", axis=0)\n",
    "scale = StandardScaler()\n",
    "x = scale.fit_transform(imp.fit_transform(x))\n",
    "pd.DataFrame(data = x, columns = features, index=df_ephys_transform.index).head()"
   ]
  },
  {
   "cell_type": "code",
   "execution_count": null,
   "metadata": {
    "collapsed": false,
    "jupyter": {
     "outputs_hidden": false
    }
   },
   "outputs": [],
   "source": [
    "pca = PCA(n_components=3)\n",
    "principalComponents = pca.fit_transform(x)\n",
    "principalDf = pd.DataFrame(data = principalComponents,\n",
    "                           columns = ['principal component 1', 'principal component 2', 'principal component 3'],\n",
    "                           index = df_ephys_transform.index)\n",
    "principalDf.head(8)"
   ]
  },
  {
   "cell_type": "code",
   "execution_count": null,
   "metadata": {
    "collapsed": false,
    "jupyter": {
     "outputs_hidden": false
    }
   },
   "outputs": [],
   "source": [
    "pca_components = pd.DataFrame(np.transpose(pca.components_), \n",
    "                columns = ['principal component 1', 'principal component 2', 'principal component 3'],\n",
    "                index = features )\n",
    "pca_components"
   ]
  },
  {
   "cell_type": "code",
   "execution_count": null,
   "metadata": {
    "collapsed": false,
    "jupyter": {
     "outputs_hidden": false
    }
   },
   "outputs": [],
   "source": [
    "#concatenate PCA values to fluorescent cell\n",
    "finalDf = pd.concat([principalDf, df_ephys_transform[['Fluorescence']]], axis = 1)\n",
    "finalDf.head(5)"
   ]
  },
  {
   "cell_type": "code",
   "execution_count": null,
   "metadata": {
    "collapsed": false,
    "jupyter": {
     "outputs_hidden": false
    }
   },
   "outputs": [],
   "source": [
    "import matplotlib.pyplot as plt\n",
    "\n",
    "#1st vs 2nd component PCA plot\n",
    "fig = plt.figure(figsize = (8,8))\n",
    "ax = fig.add_subplot(1,1,1) \n",
    "ax.set_xlabel('Principal Component 1', fontsize = 15)\n",
    "ax.set_ylabel('Principal Component 2', fontsize = 15)\n",
    "ax.set_title('1st vs 2nd Principal Component', fontsize = 20)\n",
    "\n",
    "\n",
    "Fluorescence = ['NF', 'PV+', 'SST+']\n",
    "colors = ['#F5A623', '#4A90E2', '#7ED321']\n",
    "for target, color in zip(Fluorescence,colors):\n",
    "    indicesToKeep = finalDf['Fluorescence'] == target\n",
    "    ax.scatter(finalDf.loc[indicesToKeep, 'principal component 1']\n",
    "               , finalDf.loc[indicesToKeep, 'principal component 2']\n",
    "               , c = color\n",
    "               , s = 100)\n",
    "ax.legend(Fluorescence)\n",
    "ax.grid()\n",
    "\n",
    "#1st vs 3nd component PCA plot\n",
    "fig = plt.figure(figsize = (8,8))\n",
    "ax = fig.add_subplot(1,1,1) \n",
    "ax.set_xlabel('Principal Component 1', fontsize = 15)\n",
    "ax.set_ylabel('Principal Component 3', fontsize = 15)\n",
    "ax.set_title('1st vs 3rd Principal Component', fontsize = 20)\n",
    "\n",
    "\n",
    "Fluorescence = ['NF', 'PV+', 'SST+']\n",
    "colors = ['#F5A623', '#4A90E2', '#7ED321']\n",
    "for target, color in zip(Fluorescence,colors):\n",
    "    indicesToKeep = finalDf['Fluorescence'] == target\n",
    "    ax.scatter(finalDf.loc[indicesToKeep, 'principal component 1']\n",
    "               , finalDf.loc[indicesToKeep, 'principal component 3']\n",
    "               , c = color\n",
    "               , s = 100)\n",
    "ax.legend(Fluorescence)\n",
    "ax.grid()\n",
    "\n",
    "#2nd vs 3rd component PCA plot\n",
    "fig = plt.figure(figsize = (8,8))\n",
    "ax = fig.add_subplot(1,1,1) \n",
    "ax.set_xlabel('Principal Component 2', fontsize = 15)\n",
    "ax.set_ylabel('Principal Component 3', fontsize = 15)\n",
    "ax.set_title('2nd vs 3rd Principal Components', fontsize = 20)\n",
    "\n",
    "\n",
    "Fluorescence = ['NF', 'PV+', 'SST+']\n",
    "colors = ['#F5A623', '#4A90E2', '#7ED321']\n",
    "for target, color in zip(Fluorescence,colors):\n",
    "    indicesToKeep = finalDf['Fluorescence'] == target\n",
    "    ax.scatter(finalDf.loc[indicesToKeep, 'principal component 2']\n",
    "               , finalDf.loc[indicesToKeep, 'principal component 3']\n",
    "               , c = color\n",
    "               , s = 100)\n",
    "ax.legend(Fluorescence)\n",
    "ax.grid()"
   ]
  },
  {
   "cell_type": "code",
   "execution_count": null,
   "metadata": {
    "collapsed": false,
    "jupyter": {
     "outputs_hidden": false
    }
   },
   "outputs": [],
   "source": [
    "pca.explained_variance_ratio_"
   ]
  },
  {
   "cell_type": "code",
   "execution_count": null,
   "metadata": {
    "collapsed": false,
    "jupyter": {
     "outputs_hidden": false
    }
   },
   "outputs": [],
   "source": [
    "from scipy.cluster.hierarchy import dendrogram, linkage, fcluster\n",
    "\n",
    "#ward's linkage dendrogram\n",
    "Z = linkage(x, 'ward')\n",
    "plt.figure(figsize=(25, 10))\n",
    "plt.title('Hierarchical Clustering Dendrogram')\n",
    "plt.xlabel('sample index')\n",
    "plt.ylabel('distance')\n",
    "dendrogram(\n",
    "    Z,\n",
    "    leaf_rotation=90.,  # rotates the x axis labels\n",
    "    leaf_font_size=8.,  # font size for the x axis labels\n",
    "    labels=y\n",
    ");\n",
    "\n",
    "# dendrogram()"
   ]
  },
  {
   "cell_type": "markdown",
   "metadata": {},
   "source": [
    "# Electrophysiology analysis walkthrough"
   ]
  },
  {
   "cell_type": "code",
   "execution_count": null,
   "metadata": {},
   "outputs": [],
   "source": [
    "import ncstudy.cell as cell\n",
    "from ncstudy.utils import merge_dicts\n",
    "import re\n",
    "import pandas as pd\n",
    "import ncstudy.plots as plots"
   ]
  },
  {
   "cell_type": "code",
   "execution_count": null,
   "metadata": {
    "collapsed": false,
    "jupyter": {
     "outputs_hidden": false
    }
   },
   "outputs": [],
   "source": [
    "data_path = './data'\n",
    "cell_ids = [os.path.basename(dirname[0])\n",
    "                 for dirname in os.walk(data_path)\n",
    "                 if re.match(r'\\d{2}\\w{1}\\d{2}\\-\\d{1}', os.path.basename(dirname[0]))]\n",
    "cell_ids.sort()\n",
    "cells = cell.CellCollection(data_path= data_path)\n",
    "\n",
    "for cell_id in cell_ids:\n",
    "    celldir = '%s/%s'%(data_path, cell_id)\n",
    "    neuron = cell.Cell(celldir)\n",
    "    results = neuron.extract_ephys(pulse_on = 266, pulse_len = 500, sampling_frequency = 10.,\n",
    "                                   I_min = -0.08, I_max = 0.4, I_step = 0.04)\n",
    "    cells.add(neuron)"
   ]
  },
  {
   "cell_type": "code",
   "execution_count": null,
   "metadata": {
    "collapsed": false,
    "jupyter": {
     "outputs_hidden": false
    }
   },
   "outputs": [],
   "source": [
    "cells['18131-2'].ephys.plot()"
   ]
  },
  {
   "cell_type": "markdown",
   "metadata": {},
   "source": [
    "## Table of electrophysiological properties and descriptive statistics"
   ]
  },
  {
   "cell_type": "code",
   "execution_count": null,
   "metadata": {},
   "outputs": [],
   "source": [
    "cells.collect_results()"
   ]
  },
  {
   "cell_type": "code",
   "execution_count": null,
   "metadata": {
    "collapsed": false,
    "jupyter": {
     "outputs_hidden": false
    }
   },
   "outputs": [],
   "source": [
    "df = pd.DataFrame(data=merge_dicts(cells.metadata,cells.ephys), index=cells.keys());\n",
    "\n",
    "# Reorder columns\n",
    "\n",
    "cols = ['Fluorescence','Layer',                                                # Cell Type\n",
    "        'Vrest (mV)','Input Resistance (megaohm)',                             # Passive Properties\n",
    "        'Cell Capacitance (pF)','Membrane Time Constant (ms)',                 # Passive Properties\n",
    "        'Rheobase (nA)','fI slope (Hz/nA)',                                    # Active Properties\n",
    "        'Adaptation Ratio','Sag Amplitude (mV)',                               # Slow Properties\n",
    "        'Spike Threshold (mV)','Spike Amplitude (mV)','Spike Halfwidth (ms)']  # Action Potential Properties\n",
    "\n",
    "df = df[cols]\n",
    "cells.df_ephys = df[df['Layer']=='L2/3']\n",
    "cells.df_ephys.groupby('Fluorescence').mean().round(2)"
   ]
  },
  {
   "cell_type": "code",
   "execution_count": null,
   "metadata": {
    "collapsed": false,
    "jupyter": {
     "outputs_hidden": false
    }
   },
   "outputs": [],
   "source": [
    "fig = plots.plot_ephys_summary(cells.df_ephys)\n",
    "# fig.savefig('./figures/manuscript/ephys_features.svg')"
   ]
  },
  {
   "cell_type": "code",
   "execution_count": null,
   "metadata": {
    "collapsed": false,
    "jupyter": {
     "outputs_hidden": false
    }
   },
   "outputs": [],
   "source": [
    "fig = plots.plot_fICurves(cells)"
   ]
  },
  {
   "cell_type": "markdown",
   "metadata": {},
   "source": [
    "# Optogenetic Presynaptic Stimulation Walkthrough"
   ]
  },
  {
   "cell_type": "code",
   "execution_count": null,
   "metadata": {},
   "outputs": [],
   "source": [
    "import ncstudy.cell as cell\n",
    "import ncstudy.synapses as syns"
   ]
  },
  {
   "cell_type": "code",
   "execution_count": null,
   "metadata": {},
   "outputs": [],
   "source": [
    "for cell_id, celln in cells.items():\n",
    "    celln.syns = cell.Synapses(celln.celldir, mono_winsize=5, total_winsize=200, sampling_frequency=10)\n",
    "    celln.syns.extract_features()"
   ]
  },
  {
   "cell_type": "code",
   "execution_count": null,
   "metadata": {
    "collapsed": false,
    "jupyter": {
     "outputs_hidden": false
    }
   },
   "outputs": [],
   "source": [
    "cells['18202-3'].syns.plot(savefig=False, figsize=(16,6))"
   ]
  },
  {
   "cell_type": "code",
   "execution_count": null,
   "metadata": {},
   "outputs": [],
   "source": [
    "cells.collect_results()\n",
    "df = pd.DataFrame(data=merge_dicts(cells.metadata, cells.syns), index=cells.keys())\n",
    "df_syns     = df[df['Layer']=='L2/3']"
   ]
  },
  {
   "cell_type": "code",
   "execution_count": null,
   "metadata": {
    "collapsed": false,
    "jupyter": {
     "outputs_hidden": false
    }
   },
   "outputs": [],
   "source": [
    "fig = plots.plot_syn_reliability(df_syns)"
   ]
  },
  {
   "cell_type": "markdown",
   "metadata": {},
   "source": [
    "##  Rate and temporal code analysis"
   ]
  },
  {
   "cell_type": "code",
   "execution_count": null,
   "metadata": {},
   "outputs": [],
   "source": [
    "import ncstudy.cell as cell\n",
    "import os\n",
    "import re\n",
    "\n",
    "data_path = './data'\n",
    "cell_ids = [os.path.basename(dirname[0])\n",
    "            for dirname in os.walk(data_path)\n",
    "            if re.match(r'\\d{2}\\w{1}\\d{2}\\-\\d{1}', os.path.basename(dirname[0]))]\n",
    "cell_ids.sort()\n",
    "cells = cell.CellCollection(data_path= data_path)\n",
    "\n",
    "for cell_id in cell_ids:\n",
    "    celldir = '%s/%s'%(data_path, cell_id)\n",
    "    neuron = cell.Cell(celldir)\n",
    "\n",
    "\n",
    "    neuron.rate_code = cell.Code(celldir=celldir, code_type='rate',\n",
    "                                 stim_winsize=50, mono_winsize=5,\n",
    "                                 start=5, dur=50, sampling_frequency=10)\n",
    "    neuron.rate_code.estimate_mutual_information()\n",
    "    \n",
    "    neuron.temp_code = cell.Code(celldir=celldir, code_type='temp',\n",
    "                                 stim_winsize=50, mono_winsize=5,\n",
    "                                 start=5, dur=50, sampling_frequency=10)\n",
    "    neuron.temp_code.estimate_mutual_information()\n",
    "    \n",
    "    cells.add(neuron)"
   ]
  },
  {
   "cell_type": "code",
   "execution_count": null,
   "metadata": {},
   "outputs": [],
   "source": [
    "cells.collect_metadata()\n",
    "cells.collect_syns()\n",
    "cells.collect_MI()"
   ]
  },
  {
   "cell_type": "code",
   "execution_count": null,
   "metadata": {
    "collapsed": false,
    "jupyter": {
     "outputs_hidden": false
    }
   },
   "outputs": [],
   "source": [
    "from ncstudy.utils import merge_dicts\n",
    "import pandas as pd\n",
    "import matplotlib.pyplot as plt\n",
    "import scipy.stats as stats\n",
    "from itertools import combinations\n",
    "\n",
    "df_rate_spikes = pd.DataFrame(merge_dicts(cells.metadata, cells.MI['Rate']['Spikes']), index=cells.keys())\n",
    "df_rate_spikes = df_rate_spikes[df_rate_spikes['Layer']=='L2/3']\n",
    "df_rate_spikes = df_rate_spikes.dropna()[['Fluorescence', 'mono', 'poly', 'all']]\n",
    "df_rate_spikes.head(10)\n",
    "\n",
    "fluor_group_keys = ['NF', 'PV+', 'SST+']\n",
    "fluor_group_pairs = list(combinations(range(len(fluor_group_keys)), 2))\n",
    "\n",
    "colors = ['#F5A623', '#4A90E2', '#7ED321']\n",
    "width = 0.8\n",
    "alpha = 0.6\n",
    "spread = 0.1\n",
    "\n",
    "codes = ['Rate', 'Temporal']\n",
    "resps = ['Spikes', 'Average Vm']\n",
    "wins  = ['mono', 'poly', 'all']\n",
    "\n",
    "figs = []\n",
    "for resp in resps:\n",
    "    for code in codes:\n",
    "        for win in wins:\n",
    "            df = pd.DataFrame(cells.metadata, index=cells.keys())\n",
    "            df['MI'] = cells.MI[code][resp][win]\n",
    "            df       = df[df['Layer']=='L2/3']\n",
    "            df       = df.dropna()[['Fluorescence', 'MI']]\n",
    "            \n",
    "            fig = plt.figure(figsize=(3,4))\n",
    "            plt.bar(x = np.arange(len(fluor_group_keys)),\n",
    "                    height = df.groupby('Fluorescence').mean().squeeze(),\n",
    "                    #yerr = df.groupby('Fluorescence').std().squeeze(),\n",
    "                    width = width,\n",
    "                    alpha=alpha,\n",
    "                    color=colors)\n",
    "            \n",
    "            plt.xticks(range(len(fluor_group_keys)), fluor_group_keys)\n",
    "            \n",
    "            for fx, fl in enumerate(fluor_group_keys):\n",
    "                vals = df[df['Fluorescence'] == fl]['MI']\n",
    "                locs = np.random.randn(len(vals))*spread + fx\n",
    "                plt.plot(locs, vals, 'o', color=colors[fx])\n",
    "            plt.title('%s - %s - %s'%(code, resp, win))\n",
    "            plt.xlabel('Cell Type')\n",
    "            plt.ylabel('%sMutual Information (bits)'%('Conditional\\n' if code == 'Rate' else ''))\n",
    "            \n",
    "            fig.set_size_inches((6,4))\n",
    "            fig.subplots_adjust(right=0.5)\n",
    "            ax_results = fig.add_axes([0.6,0.125,0.375,0.775])\n",
    "            \n",
    "            grouped_data = [df.groupby('Fluorescence').get_group(fl)['MI'] for fl in fluor_group_keys]\n",
    "            _,p_levene = stats.levene(*grouped_data) # equal variances test\n",
    "\n",
    "            test,test_string = (stats.f_oneway, 'One Way ANOVA') if p_levene > 0.05 else (stats.kruskal, 'Kruskal-Wallis (Levene\\'s p = %.3f)'%p_levene)\n",
    "\n",
    "            F, p_test = test(*grouped_data)\n",
    "\n",
    "            result = 'Bonferroni-corrected\\n%s\\n'%test_string\n",
    "            result += 'p = %.3f,\\n%s\\n\\n'%(p_test, 'Significant at p<=%.3f'%(0.05/(len(wins)*len(codes))) if p_test<=0.05/(len(wins)*len(codes)) else 'n.s.')\n",
    "            result += 'post-hoc tests (significant at p<= %.3f)'%(0.05/len(fluor_group_pairs))\n",
    "\n",
    "            for pair in fluor_group_pairs:\n",
    "                fl1 = pair[0]\n",
    "                fl2 = pair[1]\n",
    "                _, p_levene = stats.levene(grouped_data[fl1],grouped_data[fl2])\n",
    "                test_string = 'ind. t-test' if p_levene > 0.05 else  'Welch t-test (Levene\\'s p = %.3f)'%p_levene\n",
    "\n",
    "                tstat, p_ttind = stats.ttest_ind(a = grouped_data[fl1], b = grouped_data[fl2], equal_var=p_levene>0.05)\n",
    "                result += '\\n%s vs. %s: %s p = %.3f'%(fluor_group_keys[fl1], fluor_group_keys[fl2], test_string, p_ttind)\n",
    "                \n",
    "            plt.sca(ax_results)\n",
    "            plt.text(x=0.0, y=0.15, s=result, fontsize=14)\n",
    "            plt.axis('off')"
   ]
  },
  {
   "cell_type": "code",
   "execution_count": null,
   "metadata": {
    "collapsed": false,
    "jupyter": {
     "outputs_hidden": false
    }
   },
   "outputs": [],
   "source": [
    "df.groupby('Fluorescence').count()"
   ]
  },
  {
   "cell_type": "code",
   "execution_count": null,
   "metadata": {
    "collapsed": false,
    "jupyter": {
     "outputs_hidden": false
    }
   },
   "outputs": [],
   "source": [
    "df[df['Fluorescence']== fl]['MI']."
   ]
  },
  {
   "cell_type": "markdown",
   "metadata": {},
   "source": [
    "## Bar Charts for Matt "
   ]
  },
  {
   "cell_type": "code",
   "execution_count": null,
   "metadata": {
    "collapsed": false,
    "jupyter": {
     "outputs_hidden": false
    }
   },
   "outputs": [],
   "source": [
    "df_cols = [('Rate', 'MIc', 'Spikes', '0-5 ms'),\n",
    "          ('Rate', 'MIc', 'Spikes', '0-50 ms'),\n",
    "          ('Rate', 'MIc', 'Spikes', '5-50 ms'),\n",
    "          ('Temp', 'MI', 'Spikes', '0-5 ms'),\n",
    "          ('Temp', 'MI', 'Spikes', '0-50 ms'),\n",
    "          ('Temp', 'MI', 'Spikes', '5-50 ms')\n",
    "          ]\n",
    "\n",
    "df_grouping = [('Fluorescence',np.nan,np.nan,np.nan)]\n",
    "\n",
    "fluor_group_keys = ['NF', 'PV+', 'SST+']\n",
    "fluor_group_pairs = list(combinations(range(len(fluor_group_keys)), 2))\n",
    "\n",
    "colors = ['#F5A623', '#4A90E2', '#7ED321']\n",
    "\n",
    "width = 0.8\n",
    "alpha = 0.6\n",
    "spread = 0.1\n",
    "\n",
    "for col in df_cols:\n",
    "    \n",
    "    '''Figures'''\n",
    "    \n",
    "    df_bars = df_MI[df_grouping + [col]]\n",
    "    df_bars_grouped = df_bars.groupby(df_grouping)\n",
    "    means = df_bars_grouped.mean()\n",
    "    stds = df_bars_grouped.std()\n",
    "    \n",
    "    conds_title = ('Temporal' if 'Temp' in col else 'Rate',\n",
    "                   'V$_m$' if 'avVm' in col else col[-1] + ' Spike' if 'Spikes' in col else 'Slopes')\n",
    "    \n",
    "    conds_save = ('Temporal' if 'Temp' in col else 'Rate',\n",
    "                   'avVm' if 'avVm' in col else col[-1] + 'Spike' if 'Spikes' in col else 'Slopes')\n",
    "                 \n",
    "    \n",
    "    fig = plt.figure(figsize=(6,4))\n",
    "    plt.bar(np.arange(3), means[col], yerr= stds[col], width=width, alpha = alpha, color = colors, ecolor = colors)\n",
    "\n",
    "    for ix,fl in enumerate(fluor_group_keys):\n",
    "        vals = df_bars_grouped.get_group(fl)[col]\n",
    "        spread_vals = np.ones_like(vals)*ix + np.random.randn(len(vals))*spread\n",
    "        plt.plot(spread_vals, vals, '.', color=colors[ix], ms = 10, zorder = -2, alpha=0.6)\n",
    "    plt.xticks(range(3),fluor_group_keys)\n",
    "    plt.xlabel('Cell Type')\n",
    "    plt.ylabel('%sMutual Information (bits)'%('Conditional\\n' if 'MIc' in col else ''))\n",
    "    title_string = '%s Code\\n%s Response'%conds_title\n",
    "\n",
    "    plt.title(title_string)\n",
    "    \n",
    "    '''Stats'''\n",
    "    \n",
    "    grouped_data = [df_bars.groupby(df_grouping).get_group(fl)[col] for fl in fluor_group_keys]\n",
    "    _,p_levene = stats.levene(*grouped_data) # equal variances test\n",
    "    \n",
    "    test,test_string = (stats.f_oneway, 'One Way ANOVA') if p_levene > 0.05 else (stats.kruskal, 'Kruskal-Wallis (Levene\\'s p = %.3f)'%p_levene)\n",
    "    \n",
    "    F, p_test = test(*grouped_data)\n",
    "    \n",
    "    result = 'Bonferroni-corrected\\n%s\\n'%test_string\n",
    "    result += 'p = %.3f,\\n%s\\n\\n'%(p_test, 'Significant at p<=%.3f'%(0.05/len(df_cols)) if p_test<=0.05/len(df_cols) else 'n.s.')\n",
    "    result += 'post-hoc tests (significant at p<= %.3f)'%(0.05/len(fluor_group_pairs) )\n",
    "    \n",
    "    for pair in fluor_group_pairs:\n",
    "        fl1 = pair[0]\n",
    "        fl2 = pair[1]\n",
    "        _, p_levene = stats.levene(grouped_data[fl1],grouped_data[fl2])\n",
    "        test_string = 'ind. t-test' if p_levene > 0.05 else  'Welch t-test (Levene\\'s p = %.3f)'%p_levene\n",
    "\n",
    "        tstat, p_ttind = stats.ttest_ind(a = grouped_data[fl1], b = grouped_data[fl2], equal_var=p_levene>0.05)\n",
    "        result += '\\n%s vs. %s: %s p = %.3f'%(fluor_group_keys[fl1], fluor_group_keys[fl2], test_string, p_ttind)\n",
    "    \n",
    "    fig.subplots_adjust(right=0.5)\n",
    "    ax_results = fig.add_axes([0.6,0.125,0.375,0.775])\n",
    "    plt.sca(ax_results)\n",
    "    plt.text(x=0.0, y=0.15, s=result, fontsize=14)\n",
    "    plt.axis('off')\n",
    "    \n",
    "    fig.savefig('./figures/manuscript/MI_%s_%s_'%conds_save+'.svg')"
   ]
  },
  {
   "cell_type": "code",
   "execution_count": null,
   "metadata": {
    "collapsed": false,
    "jupyter": {
     "outputs_hidden": false
    }
   },
   "outputs": [],
   "source": [
    "df_MI.loc['18d27-1']['Temp','MI', 'Spikes']"
   ]
  },
  {
   "cell_type": "markdown",
   "metadata": {},
   "source": [
    "### Extreme example traces"
   ]
  },
  {
   "cell_type": "code",
   "execution_count": null,
   "metadata": {
    "collapsed": false,
    "jupyter": {
     "outputs_hidden": false
    }
   },
   "outputs": [],
   "source": [
    "'''Extreme MI traces'''\n",
    "\n",
    "minMI_celldirs = np.array(df_bars.groupby(df_grouping).idxmin())\n",
    "maxMI_celldirs = np.array(df_bars.groupby(df_grouping).idxmax())\n",
    "\n",
    "for ii,fl in enumerate(fluor_group_keys):\n",
    "    for jj,col in enumerate(df_cols):\n",
    "        min_celldir = minMI_celldirs[ii,jj]\n",
    "        max_celldir = maxMI_celldirs[ii,jj]\n",
    "        newdir = './figures/FENS_poster/extreme_MI/'\n",
    "\n",
    "        fileType = col[0] if col[0] is 'Rate' else 'Temporal'\n",
    "        respType = col[2]\n",
    "        \n",
    "        min_filename = './%s/%s_1.svg'%(min_celldir,fileType)\n",
    "        min_newfilename = '%s%s_example_%s_%s_lowMI.svg'%(newdir, fl,fileType, respType)\n",
    "        \n",
    "        max_filename = './%s/%s_1.svg'%(max_celldir,fileType)\n",
    "        max_newfilename = '%s%s_example_%s_%s_highMI.svg'%(newdir, fl,fileType, respType)\n",
    "        \n",
    "        os.system('cp %s %s'%(min_filename, newdir))\n",
    "        os.system('mv %s%s_1.svg %s'%(newdir,fileType,min_newfilename))\n",
    "        \n",
    "        os.system('cp %s %s'%(max_filename, newdir))\n",
    "        os.system('mv %s%s_1.svg %s'%(newdir,fileType,max_newfilename))"
   ]
  },
  {
   "cell_type": "code",
   "execution_count": null,
   "metadata": {
    "collapsed": false,
    "jupyter": {
     "outputs_hidden": false
    }
   },
   "outputs": [],
   "source": [
    "fig,axs = plt.subplots(ncols=2,nrows=1,figsize=(12,5),sharex=True,sharey=True)\n",
    "for MItype,ax,title in zip(MI_avVm,axs,['Rate Code','Temporal Code']):\n",
    "    plt.sca(ax)\n",
    "    for fluorLabel,fluorType,color in zip(['GFP-','GAD67-GFP+','GIN-GFP+'],['NF','PV+','SST+'],['C0','C1','C2']):\n",
    "        MI_bycell = np.array([mi for mi,fl in zip(MItype,fluors) if fl==fluorType])\n",
    "        plt.plot(MI_bycell.T,'-o',color=color,zorder=-2,lw=1,alpha=0.2)\n",
    "        avMI = MI_bycell.mean(axis=0)\n",
    "        sdMI = MI_bycell.std(axis=0,ddof=1)\n",
    "        plt.fill_between(range(6),avMI+sdMI,avMI-sdMI,alpha=0.2)\n",
    "        plt.plot(range(6),avMI,'-o',ms=10,label=fluorLabel+' (n=%i)'%len(MI_bycell))\n",
    "        \n",
    "    plt.title(title)\n",
    "    plt.xticks(range(6),sampling_freqs)\n",
    "    plt.xlabel('Sampling Frequency (Hz)')\n",
    "\n",
    "plt.legend()\n",
    "plt.sca(axs[0])\n",
    "plt.ylabel('Mutual Information (bits)\\nI($V_m$ average; state)')\n",
    "\n",
    "fig.savefig('./figures/svg/MI_avVm'+(time.strftime(\"%d-%m-%Y-%H-%M-%S\"))+'.svg')"
   ]
  },
  {
   "cell_type": "code",
   "execution_count": null,
   "metadata": {
    "collapsed": false,
    "jupyter": {
     "outputs_hidden": false
    }
   },
   "outputs": [],
   "source": [
    "fluorLabels = ['GFP-','GAD67-GFP+','GIN-GFP+']\n",
    "fluorTypes = ['NF','PV+','SST+']\n",
    "colors = ['C0','C1','C2']\n",
    "\n",
    "view_win = 20\n",
    "\n",
    "fig,axs = plt.subplots(ncols=2,nrows=1,figsize=(12,5),sharex=True)\n",
    "for MItype,ax,title in zip(MI_avVm,axs,['Rate Code','Temporal Code']):\n",
    "    plt.sca(ax)\n",
    "    for ix in range(3):\n",
    "        MI_bycell = np.array([mi for mi,fl in zip(MItype,fluors) if fl==fluorTypes[ix]])\n",
    "        MI_bycell = MI_bycell[:, np.array(sampling_freqs)==view_win].squeeze()\n",
    "        if '\\n(n=%i)'%len(MI_bycell) not in fluorLabels[ix]:\n",
    "            fluorLabels[ix] = fluorLabels[ix] +'\\n(n=%i)'%len(MI_bycell)\n",
    "        avMI = MI_bycell.mean(axis=0)\n",
    "        sdMI = MI_bycell.std(axis=0,ddof=1)\n",
    "        plt.bar(ix,avMI,alpha=0.5)\n",
    "        plt.errorbar(ix,avMI,sdMI,fmt='o',ms=10)\n",
    "        plt.plot(np.ones_like(MI_bycell)*ix+np.random.randn(len(MI_bycell))*0.05,MI_bycell,\n",
    "                 'o',color=colors[ix],alpha=0.5)\n",
    "        \n",
    "    plt.title(title)\n",
    "    plt.xticks(range(3),fluorLabels)\n",
    "\n",
    "plt.sca(axs[0])\n",
    "plt.ylabel('Mutual Information (bits)\\nI($V_m$ average; state)')\n",
    "fig.savefig('./figures/svg/MI_avVm_bar.svg')"
   ]
  },
  {
   "cell_type": "code",
   "execution_count": null,
   "metadata": {
    "collapsed": false,
    "jupyter": {
     "outputs_hidden": false
    }
   },
   "outputs": [],
   "source": [
    "fig,axs = plt.subplots(ncols=2,nrows=1,figsize=(12,5),sharex=True,sharey=True)\n",
    "for MItype,ax,title in zip(MIc_avVm,axs,['Rate Code','Temporal Code']):\n",
    "    plt.sca(ax)\n",
    "    for fluorLabel,fluorType,color in zip(['GFP-','GAD67-GFP+','GIN-GFP+'],['NF','PV+','SST+'],['C0','C1','C2']):\n",
    "        MI_bycell = np.array([mi for mi,fl in zip(MItype,fluors) if fl==fluorType])\n",
    "        plt.plot(MI_bycell.T,'-o',color=color,zorder=-2,lw=1,alpha=0.2)\n",
    "        avMI = MI_bycell.mean(axis=0)\n",
    "        sdMI = MI_bycell.std(axis=0,ddof=1)\n",
    "        plt.fill_between(range(6),avMI+sdMI,avMI-sdMI,alpha=0.2)\n",
    "        plt.plot(range(6),avMI,'-o',ms=10,label=fluorLabel+' (n=%i)'%len(MI_bycell))\n",
    "        \n",
    "    plt.title(title)\n",
    "    plt.xticks(range(6),sampling_freqs)\n",
    "    plt.xlabel('Sampling Frequency (Hz)')\n",
    "\n",
    "plt.legend()\n",
    "plt.sca(axs[0])\n",
    "plt.ylabel('Conditional\\nMutual Information (bits)\\nI($V_m$ average; state| pattern)')\n",
    "\n",
    "fig.savefig('./figures/svg/MIc_avVm')"
   ]
  },
  {
   "cell_type": "code",
   "execution_count": null,
   "metadata": {
    "collapsed": false,
    "jupyter": {
     "outputs_hidden": false
    }
   },
   "outputs": [],
   "source": [
    "fluorLabels = ['GFP-','GAD67-GFP+','GIN-GFP+']\n",
    "fluorTypes = ['NF','PV+','SST+']\n",
    "colors = ['C0','C1','C2']\n",
    "\n",
    "view_win = 20\n",
    "\n",
    "fig,axs = plt.subplots(ncols=2,nrows=1,figsize=(12,5),sharex=True)\n",
    "for MItype,ax,title in zip(MIc_avVm,axs,['Rate Code','Temporal Code']):\n",
    "    plt.sca(ax)\n",
    "    for ix in range(3):\n",
    "        MI_bycell = np.array([mi for mi,fl in zip(MItype,fluors) if fl==fluorTypes[ix]])\n",
    "        MI_bycell = MI_bycell[:, np.array(sampling_freqs)==view_win].squeeze()\n",
    "        if '\\n(n=%i)'%len(MI_bycell) not in fluorLabels[ix]:\n",
    "            fluorLabels[ix] = fluorLabels[ix] +'\\n(n=%i)'%len(MI_bycell)\n",
    "        avMI = MI_bycell.mean(axis=0)\n",
    "        sdMI = MI_bycell.std(axis=0,ddof=1)\n",
    "        plt.bar(ix,avMI,alpha=0.5)\n",
    "        plt.errorbar(ix,avMI,sdMI,fmt='o',ms=10)\n",
    "        plt.plot(np.ones_like(MI_bycell)*ix+np.random.randn(len(MI_bycell))*0.05,MI_bycell,\n",
    "                 'o',color=colors[ix],alpha=0.5)\n",
    "        \n",
    "    plt.title(title)\n",
    "    plt.xticks(range(3),fluorLabels)\n",
    "\n",
    "plt.sca(axs[0])\n",
    "plt.ylabel('Conditional\\nMutual Information (bits)\\nI($V_m$ average; state| pattern)')\n",
    "fig.savefig('./figures/svg/MIc_avVm_bar.svg')"
   ]
  },
  {
   "cell_type": "code",
   "execution_count": null,
   "metadata": {
    "collapsed": false,
    "jupyter": {
     "outputs_hidden": false
    }
   },
   "outputs": [],
   "source": [
    "fluorLabels = ['GFP-','GAD67-GFP+','GIN-GFP+']\n",
    "fluorTypes = ['NF','PV+','SST+']\n",
    "colors = ['C0','C1','C2']\n",
    "\n",
    "fig,axs = plt.subplots(ncols=2,nrows=1,figsize=(12,5),sharex=True)\n",
    "for MItype,ax,title in zip(MI_slope,axs,['Rate Code','Temporal Code']):\n",
    "    plt.sca(ax)\n",
    "    for ix in range(3):\n",
    "        MI_bycell = np.array([mi for mi,fl in zip(MItype,fluors) if fl==fluorTypes[ix]])\n",
    "        if '\\n(n=%i)'%len(MI_bycell) not in fluorLabels[ix]:\n",
    "            fluorLabels[ix] = fluorLabels[ix] +'\\n(n=%i)'%len(MI_bycell)\n",
    "        avMI = MI_bycell.mean(axis=0)\n",
    "        sdMI = MI_bycell.std(axis=0,ddof=1)\n",
    "        plt.bar(ix,avMI,alpha=0.5)\n",
    "        plt.errorbar(ix,avMI,sdMI,fmt='o',ms=10)\n",
    "        plt.plot(np.ones_like(MI_bycell)*ix+np.random.randn(len(MI_bycell))*0.05,MI_bycell,\n",
    "                 'o',color=colors[ix],alpha=0.5)\n",
    "        \n",
    "    plt.title(title)\n",
    "    plt.xticks(range(3),fluorLabels)\n",
    "\n",
    "plt.sca(axs[0])\n",
    "plt.ylabel('Mutual Information (bits)\\nI($V_m$ slope; state)')\n",
    "fig.savefig('./figures/svg/MI_slopes.svg')"
   ]
  },
  {
   "cell_type": "code",
   "execution_count": null,
   "metadata": {
    "collapsed": false,
    "jupyter": {
     "outputs_hidden": false
    }
   },
   "outputs": [],
   "source": [
    "fluorLabels = ['GFP-','GAD67-GFP+','GIN-GFP+']\n",
    "fluorTypes = ['NF','PV+','SST+']\n",
    "colors = ['C0','C1','C2']\n",
    "\n",
    "fig,axs = plt.subplots(ncols=2,nrows=1,figsize=(12,5),sharex=True)\n",
    "for MItype,ax,title in zip(MIc_slope,axs,['Rate Code','Temporal Code']):\n",
    "    plt.sca(ax)\n",
    "    for ix in range(3):\n",
    "        MI_bycell = np.array([mi for mi,fl in zip(MItype,fluors) if fl==fluorTypes[ix]])\n",
    "        if '\\n(n=%i)'%len(MI_bycell) not in fluorLabels[ix]:\n",
    "            fluorLabels[ix] = fluorLabels[ix] +'\\n(n=%i)'%len(MI_bycell)\n",
    "        avMI = MI_bycell.mean(axis=0)\n",
    "        sdMI = MI_bycell.std(axis=0,ddof=1)\n",
    "        plt.bar(ix,avMI,alpha=0.5)\n",
    "        plt.errorbar(ix,avMI,sdMI,fmt='o',ms=10)\n",
    "        plt.plot(np.ones_like(MI_bycell)*ix+np.random.randn(len(MI_bycell))*0.05,MI_bycell,\n",
    "                 'o',color=colors[ix],alpha=0.5)\n",
    "        \n",
    "    plt.title(title)\n",
    "    plt.xticks(range(3),fluorLabels)\n",
    "\n",
    "plt.sca(axs[0])\n",
    "plt.ylabel('Conditional\\nMutual Information (bits)\\nI($V_m$ slope; state| pattern)')\n",
    "fig.savefig('./figures/svg/MIc_slopes.svg')"
   ]
  },
  {
   "cell_type": "code",
   "execution_count": null,
   "metadata": {
    "collapsed": false,
    "jupyter": {
     "outputs_hidden": false
    }
   },
   "outputs": [],
   "source": [
    "fluorLabels = ['GFP-','GAD67-GFP+','GIN-GFP+']\n",
    "fluorTypes = ['NF','PV+','SST+']\n",
    "colors = ['C0','C1','C2']\n",
    "\n",
    "sptw = [int(win*1000) for win in spTimeWins]\n",
    "\n",
    "fig,axs = plt.subplots(ncols=2,nrows=1,figsize=(12,5),sharex=True)\n",
    "for MItype,ax,title in zip(MI_spike,axs,['Rate Code','Temporal Code']):\n",
    "    plt.sca(ax)\n",
    "    for ix in range(3):\n",
    "        MI_bycell = np.array([mi for mi,fl in zip(MItype,fluors) if fl==fluorTypes[ix]])\n",
    "        avMI = np.nanmean(MI_bycell,axis=0)\n",
    "        sdMI = np.nanstd(MI_bycell,axis=0,ddof=1)\n",
    "        plt.plot(range(len(spTimeWins)),avMI,'-o',ms=10,label=fluorLabels[ix]+' (n=%i)'%len(MI_bycell))\n",
    "        plt.fill_between(range(len(spTimeWins)),avMI+sdMI,avMI-sdMI,alpha=0.2,zorder=-2)\n",
    "        plt.plot(range(len(spTimeWins)),MI_bycell.T,'-o',color=colors[ix],alpha=0.2,lw=1,zorder=-1)\n",
    "    plt.title(title)\n",
    "    plt.xlabel('Spike Window (ms)')\n",
    "        \n",
    "plt.xticks(range(len(sptw)),sptw)\n",
    "plt.legend()\n",
    "\n",
    "plt.sca(axs[0])\n",
    "plt.ylabel('Mutual Information (bits)\\nI(spikes; state)')\n",
    "\n",
    "fig.savefig('./figures/svg/MI_spikes'+(time.strftime(\"%d-%m-%Y-%H-%M-%S\"))+'.svg')"
   ]
  },
  {
   "cell_type": "code",
   "execution_count": null,
   "metadata": {},
   "outputs": [],
   "source": [
    "from ncstudy.utils import hcf"
   ]
  },
  {
   "cell_type": "code",
   "execution_count": null,
   "metadata": {
    "collapsed": false,
    "jupyter": {
     "outputs_hidden": false
    }
   },
   "outputs": [],
   "source": [
    "hcf(20, 8)"
   ]
  },
  {
   "cell_type": "code",
   "execution_count": null,
   "metadata": {
    "collapsed": false,
    "jupyter": {
     "outputs_hidden": false
    }
   },
   "outputs": [],
   "source": [
    "fluorLabels = ['GFP-','GAD67-GFP+','GIN-GFP+']\n",
    "fluorTypes = ['NF','PV+','SST+']\n",
    "colors = ['C0','C1','C2']\n",
    "\n",
    "view_win = 0.05\n",
    "\n",
    "fig,axs = plt.subplots(ncols=2,nrows=1,figsize=(12,5),sharex=True)\n",
    "for MItype,ax,title in zip(MI_spike,axs,['Rate Code','Temporal Code']):\n",
    "    plt.sca(ax)\n",
    "    for ix in range(3):\n",
    "        MI_bycell = np.array([mi for mi,fl in zip(MItype,fluors) if fl==fluorTypes[ix]])\n",
    "        MI_bycell = MI_bycell[:, np.array(spTimeWins)==view_win].squeeze()\n",
    "        if '\\n(n=%i)'%len(MI_bycell) not in fluorLabels[ix]:\n",
    "            fluorLabels[ix] = fluorLabels[ix] +'\\n(n=%i)'%len(MI_bycell)\n",
    "        avMI = MI_bycell.mean(axis=0)\n",
    "        sdMI = MI_bycell.std(axis=0,ddof=1)\n",
    "        plt.bar(ix,avMI,alpha=0.5)\n",
    "        plt.errorbar(ix,avMI,sdMI,fmt='o',ms=10)\n",
    "        plt.plot(np.ones_like(MI_bycell)*ix+np.random.randn(len(MI_bycell))*0.05,MI_bycell,\n",
    "                 'o',color=colors[ix],alpha=0.5)\n",
    "        \n",
    "    plt.title(title)\n",
    "    plt.xticks(range(3),fluorLabels)\n",
    "\n",
    "plt.sca(axs[0])\n",
    "plt.ylabel('Mutual Information (bits)\\nI(spikes; state)')\n",
    "fig.savefig('./figures/svg/MI_spikes_bar.svg')"
   ]
  },
  {
   "cell_type": "code",
   "execution_count": null,
   "metadata": {
    "collapsed": false,
    "jupyter": {
     "outputs_hidden": false
    }
   },
   "outputs": [],
   "source": [
    "fluorLabels = ['GFP-','GAD67-GFP+','GIN-GFP+']\n",
    "fluorTypes = ['NF','PV+','SST+']\n",
    "colors = ['C0','C1','C2']\n",
    "\n",
    "sptw = [int(win*1000) for win in spTimeWins]\n",
    "\n",
    "fig,axs = plt.subplots(ncols=2,nrows=1,figsize=(12,5),sharex=True)\n",
    "for MItype,ax,title in zip(MIc_spike,axs,['Rate Code','Temporal Code']):\n",
    "    plt.sca(ax)\n",
    "    for ix in range(3):\n",
    "        MI_bycell = np.array([mi for mi,fl in zip(MItype,fluors) if fl==fluorTypes[ix]])\n",
    "        avMI = np.nanmean(MI_bycell,axis=0)\n",
    "        sdMI = np.nanstd(MI_bycell,axis=0,ddof=1)\n",
    "        plt.plot(range(len(spTimeWins)),avMI,'-o',ms=10,label=fluorLabels[ix]+' (n=%i)'%len(MI_bycell))\n",
    "        plt.fill_between(range(len(spTimeWins)),avMI+sdMI,avMI-sdMI,alpha=0.2,zorder=-2)\n",
    "        plt.plot(range(len(spTimeWins)),MI_bycell.T,'-o',color=colors[ix],alpha=0.2,lw=1,zorder=-1)\n",
    "    plt.title(title)\n",
    "    plt.xlabel('Spike Window (ms)')\n",
    "        \n",
    "plt.xticks(range(len(sptw)),sptw)\n",
    "plt.legend()\n",
    "\n",
    "plt.sca(axs[0])\n",
    "plt.ylabel('Conditional\\nMutual Information (bits)\\nI(spikes; state| pattern)')\n",
    "\n",
    "fig.savefig('./figures/svg/MIc_spikes'+(time.strftime(\"%d-%m-%Y-%H-%M-%S\"))+'.svg')"
   ]
  },
  {
   "cell_type": "code",
   "execution_count": null,
   "metadata": {
    "collapsed": false,
    "jupyter": {
     "outputs_hidden": false
    }
   },
   "outputs": [],
   "source": [
    "fluorLabels = ['GFP-','GAD67-GFP+','GIN-GFP+']\n",
    "fluorTypes = ['NF','PV+','SST+']\n",
    "colors = ['C0','C1','C2']\n",
    "\n",
    "view_win = 0.05\n",
    "\n",
    "fig,axs = plt.subplots(ncols=2,nrows=1,figsize=(12,5),sharex=True)\n",
    "for MItype,ax,title in zip(MIc_spike,axs,['Rate Code','Temporal Code']):\n",
    "    plt.sca(ax)\n",
    "    for ix in range(3):\n",
    "        MI_bycell = np.array([mi for mi,fl in zip(MItype,fluors) if fl==fluorTypes[ix]])\n",
    "        MI_bycell = MI_bycell[:, np.array(spTimeWins)==view_win].squeeze()\n",
    "        if '\\n(n=%i)'%len(MI_bycell) not in fluorLabels[ix]:\n",
    "            fluorLabels[ix] = fluorLabels[ix] +'\\n(n=%i)'%len(MI_bycell)\n",
    "        avMI = MI_bycell.mean(axis=0)\n",
    "        sdMI = MI_bycell.std(axis=0,ddof=1)\n",
    "        plt.bar(ix,avMI,alpha=0.5)\n",
    "        plt.errorbar(ix,avMI,sdMI,fmt='o',ms=10)\n",
    "        plt.plot(np.ones_like(MI_bycell)*ix+np.random.randn(len(MI_bycell))*0.05,MI_bycell,\n",
    "                 'o',color=colors[ix],alpha=0.5)\n",
    "        \n",
    "    plt.title(title)\n",
    "    plt.xticks(range(3),fluorLabels)\n",
    "\n",
    "plt.sca(axs[0])\n",
    "plt.ylabel('Conditional\\nMutual Information (bits)\\nI($V_m$ spikes; state| pattern)')\n",
    "fig.savefig('./figures/svg/MIc_spikes_bar.svg')"
   ]
  },
  {
   "cell_type": "code",
   "execution_count": null,
   "metadata": {},
   "outputs": [],
   "source": [
    "def plot_fullJointProb(pxyz,fileType,celldir,win):\n",
    "\n",
    "    fig,axs = plt.subplots(ncols=2,figsize=(9,10),sharex=True,sharey=True)\n",
    "    \n",
    "    pxy0,pxy1 = pxyz\n",
    "\n",
    "    srtp = np.ravel(pxyz)\n",
    "    srtp = np.sort(srtp)\n",
    "    vmax = (srtp[-3]+0.05).round(2)\n",
    "\n",
    "    plt.sca(axs[0])\n",
    "    plt.imshow(pxy0,vmin=0,vmax=vmax)\n",
    "    plt.title('Low')\n",
    "    plt.ylabel('Input Spike Count (Pattern)')\n",
    "    plt.xlabel('Output Spike Count (Response)')\n",
    "\n",
    "    plt.sca(axs[1])\n",
    "    plt.title('High')\n",
    "    plt.xlabel('Output Spike Count (Response)')\n",
    "    im = plt.imshow(pxy1,vmin=0,vmax=vmax)\n",
    "\n",
    "    plt.xlim((-0.5,5.5))\n",
    "    plt.ylim((-0.5,10.5))\n",
    "    plt.xticks(range(6))\n",
    "\n",
    "    fig.text(x=0.5,y=0.975,s='%s Code (State)'%fileType,fontsize=20,horizontalalignment='center')\n",
    "\n",
    "    fig.subplots_adjust(bottom=0.3)\n",
    "    cax = fig.add_axes([0.125,0.1,0.775,0.05])\n",
    "\n",
    "    fig.colorbar(mappable=im,cax=cax,orientation='horizontal',extend='max')\n",
    "    cax.set_xlabel('P (state, pattern, response)')\n",
    "    \n",
    "    fig.savefig('%s/%s_joint_spikes_%i'%(celldir,fileType,int(win*1000)))\n",
    "    plt.close()"
   ]
  },
  {
   "cell_type": "code",
   "execution_count": null,
   "metadata": {
    "collapsed": false,
    "jupyter": {
     "outputs_hidden": false
    }
   },
   "outputs": [],
   "source": [
    "plot_fullJointProb(prsc,fileType=fileType)"
   ]
  },
  {
   "cell_type": "markdown",
   "metadata": {},
   "source": [
    "## 4. Power Spectrum"
   ]
  },
  {
   "cell_type": "code",
   "execution_count": null,
   "metadata": {},
   "outputs": [],
   "source": [
    "sampling_frequency = 10000\n",
    "\n",
    "celldirs = [x[0][2:] for x in os.walk('./') if x[0].startswith('./1')]\n",
    "celldirs.sort()\n",
    "\n",
    "ff_rsq = []\n",
    "rc_rsq = []\n",
    "tc_rsq = []\n",
    "\n",
    "ff_logp = []\n",
    "rc_logp = []\n",
    "tc_logp = []\n",
    "\n",
    "for celldir in celldirs:\n",
    "    try:\n",
    "        data_ff = load_episodic('./%s/Full_field.abf'%celldir)\n",
    "        data_rc = load_episodic('./%s/Rate.abf'%celldir)\n",
    "        data_tc = load_episodic('./%s/Temporal.abf'%celldir)\n",
    "    except IOError:\n",
    "        continue\n",
    "\n",
    "    Vm_ff = data_ff[0][6*sampling_frequency:-6*sampling_frequency,:,0]\n",
    "    Vm_rc = data_rc[0][6*sampling_frequency:-6*sampling_frequency,:,0]\n",
    "    Vm_tc = data_tc[0][6*sampling_frequency:-6*sampling_frequency,:,0]\n",
    "\n",
    "    for Vm,rsq, all_logp in zip([Vm_ff, Vm_rc, Vm_tc],[ff_rsq, rc_rsq, tc_rsq], [ff_logp, rc_logp, tc_logp]):\n",
    "        f,p = sig.periodogram(Vm.T,fs=sampling_frequency)\n",
    "        p = p.mean(axis=0)\n",
    "        logf = np.log10(f[f<200][1:])\n",
    "        logp = np.log10(p[f<200][1:])\n",
    "        all_logp.append(logp)\n",
    "        slope, intercept, rval, pval, stderr = stats.linregress(logf, logp)\n",
    "        rsq.append(rval**2)\n",
    "        \n",
    "Rsq = np.array([ff_rsq, rc_rsq, tc_rsq])\n",
    "\n",
    "ff_logp = np.mean(ff_logp, axis=0)\n",
    "rc_logp = np.mean(rc_logp, axis=0)\n",
    "tc_logp = np.mean(tc_logp, axis=0)"
   ]
  },
  {
   "cell_type": "code",
   "execution_count": null,
   "metadata": {
    "collapsed": false,
    "jupyter": {
     "outputs_hidden": false
    }
   },
   "outputs": [],
   "source": [
    "colors = ['mediumpurple', 'darkorange', 'dimgrey']\n",
    "\n",
    "fig = plt.figure(figsize=(9,6))\n",
    "\n",
    "ff_f = np.linspace(0,200,len(ff_logp)+1)[1:]\n",
    "rc_f = np.linspace(0,200,len(rc_logp)+1)[1:]\n",
    "tc_f = np.linspace(0,200,len(rc_logp)+1)[1:]\n",
    "\n",
    "plt.loglog(ff_f, np.exp(ff_logp), colors[0], alpha=0.8, lw=2)\n",
    "plt.loglog(rc_f, np.exp(rc_logp), colors[1], alpha=0.8, lw=2)\n",
    "plt.loglog(tc_f, np.exp(tc_logp), colors[2], alpha=0.8, lw=2)\n",
    "\n",
    "plt.legend(['Full Field', 'Rate Code', 'Temporal Code'])\n",
    "plt.xlabel('Frequency')\n",
    "plt.ylabel('Power')\n",
    "\n",
    "fig.savefig('./figures/FENS_poster/power_spectrum_opto')"
   ]
  },
  {
   "cell_type": "code",
   "execution_count": null,
   "metadata": {
    "collapsed": false,
    "jupyter": {
     "outputs_hidden": false
    }
   },
   "outputs": [],
   "source": [
    "colors = ['mediumpurple', 'darkorange', 'dimgrey']\n",
    "\n",
    "fig = plt.figure(figsize=(6,4))\n",
    "plt.bar(range(3), Rsq.mean(axis=1), yerr=Rsq.std(axis=1, ddof=1), color=colors, alpha=0.6, ecolor=colors)\n",
    "for ix,group in enumerate(Rsq):\n",
    "    plt.plot(np.random.randn(len(group))*0.1+ix, group, 'o',alpha=0.6,zorder=-2, color= colors[ix])\n",
    "\n",
    "pair_combos = list(combinations(range(3),2))\n",
    "results_string = 'Paired t-tests\\nSignificance at p<=%.3f\\n\\n'%(0.05/len(pair_combos))\n",
    "dataTypes = ['Full\\nField', 'Rate\\nCode', 'Temporal\\nCode']\n",
    "\n",
    "for pair in pair_combos:\n",
    "    ix1,ix2 = pair\n",
    "    _,p_test = stats.ttest_rel(Rsq[ix1],Rsq[ix2])\n",
    "    results_string += '%s vs %s, p = %.3f\\n'%(dataTypes[ix1][:4], dataTypes[ix2][:4], p_test)\n",
    "    \n",
    "plt.xticks(range(3),dataTypes)\n",
    "plt.ylabel('$R^2$')\n",
    "plt.title('Power Law\\nPower Spectrum fit')\n",
    "\n",
    "fig.subplots_adjust(right=0.5)\n",
    "ax_results = fig.add_axes([0.6,0.125,0.375,0.775])\n",
    "plt.sca(ax_results)\n",
    "plt.text(x=0.0, y=0.15, s=results_string, fontsize=14)\n",
    "plt.axis('off')\n",
    "\n",
    "fig.savefig('./figures/svg/power_spectrum_rsq')"
   ]
  }
 ],
 "metadata": {
  "kernelspec": {
   "display_name": "PrincePy3Env",
   "language": "python",
   "name": "princepy3env"
  },
  "language_info": {
   "codemirror_mode": {
    "name": "ipython",
    "version": 3
   },
   "file_extension": ".py",
   "mimetype": "text/x-python",
   "name": "python",
   "nbconvert_exporter": "python",
   "pygments_lexer": "ipython3",
   "version": "3.8.3"
  }
 },
 "nbformat": 4,
 "nbformat_minor": 4
}
