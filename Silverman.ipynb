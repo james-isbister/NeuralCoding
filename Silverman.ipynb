{
 "cells": [
  {
   "cell_type": "code",
   "execution_count": 279,
   "metadata": {},
   "outputs": [],
   "source": [
    "from scipy.stats import gaussian_kde, beta\n",
    "from scipy.signal import argrelmax\n",
    "import numpy as np\n",
    "import matplotlib.pyplot as plt\n",
    "import tqdm as tq\n",
    "\n",
    "plt.style.use('dark_background')"
   ]
  },
  {
   "cell_type": "code",
   "execution_count": 2,
   "metadata": {},
   "outputs": [
    {
     "data": {
      "image/png": "[encoded data removed]",
      "text/plain": [
       "<matplotlib.figure.Figure at 0x7f8fa46d8610>"
      ]
     },
     "metadata": {},
     "output_type": "display_data"
    }
   ],
   "source": [
    "X = np.concatenate([np.random.randn(150)*1.0 + 8,\n",
    "                    np.random.randn(130)*0.5 - 0,\n",
    "                    np.random.randn(145)*2.0 - 8,\n",
    "                    np.random.randn(145)*0.4 - 16])\n",
    "plt.hist(X, bins=50, density=True);"
   ]
  },
  {
   "cell_type": "code",
   "execution_count": 189,
   "metadata": {},
   "outputs": [
    {
     "data": {
      "image/png": "[encoded data removed]",
      "text/plain": [
       "<matplotlib.figure.Figure at 0x7f8f53a349d0>"
      ]
     },
     "metadata": {},
     "output_type": "display_data"
    }
   ],
   "source": [
    "chondrite = np.array([20.77, 22.56, 22.71, 22.99, 26.39, 27.08, 27.32, 27.33, 27.57, 27.81, 28.69, \n",
    "                      29.36, 30.25, 31.89, 32.88, 33.23, 33.28, 33.40, 33.52, 33.83, 33.95, 34.82])\n",
    "plt.hist(chondrite, bins=20, density=True);"
   ]
  },
  {
   "cell_type": "code",
   "execution_count": 157,
   "metadata": {},
   "outputs": [
    {
     "data": {
      "image/png": "[encoded data removed]",
      "text/plain": [
       "<matplotlib.figure.Figure at 0x7f8f542a9f90>"
      ]
     },
     "metadata": {},
     "output_type": "display_data"
    }
   ],
   "source": [
    "chondrite_scaled = np.array([.04, .15, .16, .18, .40, .44, .45, .46, .47, .49, .54,\n",
    "                             .59, .64, .75, .81, .83, .84, .84, .85, .87, .87, .92])\n",
    "plt.hist(chondrite_scaled, bins=20, density=True);"
   ]
  },
  {
   "cell_type": "code",
   "execution_count": 36,
   "metadata": {},
   "outputs": [],
   "source": [
    "single = np.array([0, 0.1, 0.05])"
   ]
  },
  {
   "cell_type": "code",
   "execution_count": 272,
   "metadata": {},
   "outputs": [],
   "source": [
    "def gaussian(x, mu=0, sigma=1):\n",
    "    return ((2*np.pi*sigma**2)**-0.5) * np.exp(-0.5 * ((x - mu)/sigma)**2)\n",
    "\n",
    "def gaussian_deriv(x, mu=0, sigma=1):\n",
    "    return -((x-mu)/sigma**2)*gaussian(x, mu, sigma)\n",
    "\n",
    "def gaussian_deriv_2(x, mu=0, sigma=1):\n",
    "    return ((x-mu)**2/sigma**2 - 1)*gaussian(x, mu, sigma)/sigma**2\n",
    "\n",
    "# def gaussian_kde(x, X, sigma):\n",
    "#     if np.isscalar(x):\n",
    "#         x = np.array([x])\n",
    "#     return gaussian(x.repeat(len(X)).reshape(len(x), len(X)), mu=X, sigma=sigma).mean(axis=1)\n",
    "    \n",
    "def gaussian_kde_deriv(x, X, sigma):\n",
    "    if np.isscalar(x):\n",
    "        x = np.array([x])\n",
    "    return gaussian_deriv(x.repeat(len(X)).reshape(len(x), len(X)), mu=X, sigma=sigma).mean(axis=1)\n",
    "\n",
    "def gaussian_kde_deriv_2(x, X, sigma):\n",
    "    if np.isscalar(x):\n",
    "        x = np.array([x])\n",
    "    return gaussian_deriv_2(x.repeat(len(X)).reshape(len(x), len(X)), mu=X, sigma=sigma).mean(axis=1)\n",
    "\n",
    "def count_kde_modes(K, qk):\n",
    "    modes = find_all_kde_modes(K, qk)\n",
    "    return len(modes)\n",
    "\n",
    "def find_all_kde_modes_old(K, qk):    \n",
    "    f   = lambda x : -K.pdf(x)\n",
    "    df  = lambda x : -gaussian_kde_deriv(x,   X=K.dataset.squeeze(), sigma=K.factor * K.dataset.std(ddof=1))\n",
    "    ddf = lambda x : -gaussian_kde_deriv_2(x, X=K.dataset.squeeze(), sigma=K.factor * K.dataset.std(ddof=1))\n",
    "    \n",
    "    Xmin = K.dataset.min()\n",
    "    Xmax = K.dataset.max()\n",
    "    Xstd  = K.dataset.std()\n",
    "    \n",
    "    return find_all_minima(f=f, df=df, ddf=ddf, low=Xmin - Xstd/4, high=Xmax + Xstd/4, break_after_n=qk)\n",
    "\n",
    "def find_all_minima_old(f, df, ddf, random_starts=500, low=-100.0, high=100, break_after_n=False):\n",
    "    minima = np.array([])\n",
    "\n",
    "    for ix in range(random_starts):\n",
    "        x0 = np.random.uniform(low=low, high=high)\n",
    "        results = opt.root(df, x0=x0, jac=ddf)\n",
    "#         new_minimum = opt.minimize(f, x0=x0, jac=df, hess=ddf, method='Newton-CG', options={'xtol': 1e-3})['x']\n",
    "        if ddf(results['x']) > 0 and results['success']:\n",
    "            if np.any(minima):\n",
    "                if np.any([np.isclose(results['x'], minimum, rtol=1e-2) for minimum in minima]):\n",
    "                    pass\n",
    "                else:\n",
    "                    minima = np.concatenate((minima, results['x']))\n",
    "            else:\n",
    "                minima= np.concatenate((minima, results['x']))\n",
    "                \n",
    "        if break_after_n:\n",
    "            if len(minima) > break_after_n:\n",
    "                break\n",
    "    minima.sort()\n",
    "#     minima = minima[ddf(minima) > 1e-12]\n",
    "#     minima = minima[np.abs(df(minima)) < 1e-6 ]\n",
    "    return minima\n",
    "\n",
    "def find_all_kde_modes(K, break_after_n):\n",
    "    f      = lambda x : K.pdf(x)\n",
    "    # Grid search\n",
    "    b_left  = K.dataset.min() - K.dataset.std()/4\n",
    "    b_right = K.dataset.max() + K.dataset.std()/4\n",
    "    xx = np.arange(b_left, b_right, 0.001)\n",
    "    gs_f_max = xx[argrelmax(f(xx))[0]]\n",
    "    \n",
    "    return gs_f_max\n",
    "\n",
    "def find_all_kde_modes_smart(K, break_after_n):\n",
    "    f      = lambda x : K.pdf(x)\n",
    "    negf   = lambda x : -f(x)\n",
    "\n",
    "    df     = lambda x : gaussian_kde_deriv(x, K.dataset[0], K.factor * K.dataset.std(ddof=1))\n",
    "    negdf  = lambda x : -df(x)\n",
    "\n",
    "    ddf    = lambda x : gaussian_kde_deriv_2(x, K.dataset[0], K.factor * K.dataset.std(ddof=1))\n",
    "    negddf = lambda x : -ddf(x)\n",
    "\n",
    "    #------------------\n",
    "\n",
    "    b_left  = K.dataset.min() - K.dataset.std()/4\n",
    "    b_right = K.dataset.max() + K.dataset.std()/4\n",
    "\n",
    "    x_init  = K.dataset.min()\n",
    "\n",
    "    ftol=1e-32\n",
    "    eps=1e-12\n",
    "    gtol=1e-12\n",
    "\n",
    "    j_maxs = []\n",
    "    f_maxs = []\n",
    "    j_mins = []\n",
    "    f_mins = []\n",
    "    \n",
    "    #--------------------\n",
    "    \n",
    "    while not np.isclose(b_left, b_right, 1e-1):\n",
    "        for fun, jac, mins in zip([negdf, negf, df, f], [negddf, negdf, ddf, df], [j_maxs, f_maxs, j_mins, f_mins]):\n",
    "            results_lbfgsb_jac = opt.minimize(fun, x0=x_init, bounds=([b_left, b_right],), jac=jac, options={'ftol' : ftol, 'gtol' : gtol}, method='L-BFGS-B')\n",
    "            results_slsqp_jac  = opt.minimize(fun, x0=x_init, bounds=([b_left, b_right],), jac=jac, options={'ftol' : ftol}, method='SLSQP')\n",
    "\n",
    "            results_lbfgsb = opt.minimize(fun, x0=x_init, bounds=([b_left, b_right],), options={'ftol' : ftol, 'eps' : eps, 'gtol' : gtol}, method='L-BFGS-B')\n",
    "            results_slsqp  = opt.minimize(fun, x0=x_init, bounds=([b_left, b_right],), options={'ftol' : ftol, 'eps' : eps}, method='SLSQP')\n",
    "\n",
    "            results_nm     = opt.minimize(fun, x0=x_init, method='Nelder-Mead', options={'fatol' : 1e-16, 'initial_simplex' : np.array([b_left,x_init]).reshape(-1,1)})\n",
    "            if results_nm['x'] < x_init:\n",
    "                results_nm['success'] = False\n",
    "\n",
    "            fun_min = min([results['x'] for results in [results_lbfgsb_jac, results_slsqp_jac, results_lbfgsb, results_slsqp, results_nm] if results['success']])\n",
    "\n",
    "            for eta in [0.1, 0.25, 0.5, 0.75, 0.9, 0.925, 0.95, 0.99, 0.999]:\n",
    "                results_tnc_jac = opt.minimize(fun, x0=x_init, bounds=([b_left, b_right],), jac=jac, options={'ftol' : ftol, 'gtol' : gtol,  'eta' : eta}, method='tnc')\n",
    "                results_tnc    = opt.minimize(fun, x0=x_init, bounds=([b_left, b_right],), options={'ftol' : ftol, 'gtol' : gtol, 'eps' : eps, 'eta' : eta}, method='tnc')\n",
    "                try:\n",
    "                    tnc_min = min([results['x'] for results in [results_tnc_jac, results_tnc] if results['success']])\n",
    "                except ValueError:\n",
    "                    pass\n",
    "\n",
    "            fun_min = min(fun_min, tnc_min)\n",
    "\n",
    "            b_left = x_init\n",
    "            x_init = fun_min\n",
    "            mins.append(fun_min[0])\n",
    "\n",
    "            while f(x_init) < 1e-6 and x_init < b_right:\n",
    "                x_init+=1e-3\n",
    "        \n",
    "            while np.abs(df(x_init)) < 1e-5 and np.abs(ddf(x_init)) < 1e-2:\n",
    "                x_init+=1e-3\n",
    "\n",
    "            if np.isclose(b_left, b_right, 1e-1):\n",
    "                break\n",
    "                \n",
    "    f_maxs = np.array(f_maxs)\n",
    "    f_maxs = f_maxs[ddf(f_maxs) < 0]\n",
    "    return np.array(f_maxs)\n",
    "\n",
    "def binary_search(K, qk, tol, min_sigma, max_sigma):\n",
    "    while not np.isclose(max_sigma - min_sigma, tol):\n",
    "        sigma = np.round(10**(0.5*(np.log10(min_sigma) + np.log10(max_sigma))), int(-np.log10(tol)))\n",
    "        K.set_bandwidth(sigma/K.dataset.std(ddof=1))\n",
    "        num_modes = count_kde_modes(K, qk);\n",
    "        if num_modes > qk:\n",
    "            min_sigma = sigma\n",
    "        elif num_modes <= qk:\n",
    "            max_sigma = sigma\n",
    "    return max_sigma\n",
    "    \n",
    "def find_critical_bandwidth(K, qk=1, tol=1e-16, min_sigma = 1e-3, max_sigma = 1e2):\n",
    "    return binary_search(K, qk, tol= tol, min_sigma= min_sigma, max_sigma= max_sigma)\n",
    "\n",
    "def bootstrap_sample(X, sigma, sample_size):\n",
    "    return (1 + sigma ** 2 / X.var(ddof=1))**-0.5 * (np.random.choice(X, size=sample_size, replace=True) + np.random.randn(sample_size)*sigma)\n",
    "    \n",
    "\n",
    "def silvermans_test(X, qk=1, num_bootstraps = 200, tol=1e-3, use_beta=True):\n",
    "    # Create Gaussian KDE object\n",
    "    K = gaussian_kde(X)\n",
    "    \n",
    "    # find critical bandwidth\n",
    "    sigma_critical = find_critical_bandwidth(K, qk=qk, tol=tol)\n",
    "    \n",
    "    # Set KDE kernel bandwidth to critical\n",
    "    K.set_bandwidth(sigma_critical/K.dataset.std(ddof=1))\n",
    "    \n",
    "    # Check and redo if necessary\n",
    "    while count_kde_modes(K, qk) > qk:\n",
    "        \n",
    "        sigma_critical = find_critical_bandwidth(K, qk=qk, tol=tol)\n",
    "        K.set_bandwidth(sigma_critical / K.dataset.std(ddof=1))\n",
    "    \n",
    "    # Estimate p-value\n",
    "    p = 0\n",
    "    \n",
    "    if use_beta:\n",
    "        a = 1\n",
    "        b = 1\n",
    "        from scipy.stats import beta\n",
    "        while (beta.cdf(0.9, a, b) > 0.005) and (beta.cdf(0.9, a, b) < 0.995):\n",
    "            Z = bootstrap_sample(X, sigma=sigma_critical, sample_size=len(X))\n",
    "            Kz = gaussian_kde(Z)\n",
    "            Kz.set_bandwidth(sigma_critical/Kz.dataset.std(ddof=1))\n",
    "            num_modes = count_kde_modes(Kz, qk)\n",
    "            if qk >= num_modes:\n",
    "                a += 1\n",
    "            else:\n",
    "                b += 1\n",
    "            print (a - 1.)/(a + b - 2.), beta.cdf(0.9, a, b)\n",
    "        return (a - 1.)/(a + b - 2.)\n",
    "    else:\n",
    "        for ix in tq.tqdm(range(num_bootstraps)):\n",
    "            # Sample from KDE with critical bandwidth\n",
    "            Z = bootstrap_sample(X, sigma=sigma_critical, sample_size=len(X))\n",
    "\n",
    "            # Create KDE object for new sample\n",
    "            Kz = gaussian_kde(Z)\n",
    "            Kz.set_bandwidth(sigma_critical/Kz.dataset.std(ddof=1))\n",
    "\n",
    "            num_modes = count_kde_modes(Kz, qk)\n",
    "            p+= float(qk>=num_modes)/num_bootstraps\n",
    "        return p\n",
    "\n",
    "def plot_kde(K):\n",
    "    Xmin = K.dataset.min()\n",
    "    Xmax = K.dataset.max()\n",
    "    Xstd  = K.dataset.std(ddof=1)\n",
    "    x = np.linspace(Xmin-Xstd/4, Xmax+Xstd/4, 1000)\n",
    "    plt.plot(x, K.pdf(x))\n",
    "    \n",
    "def plot_modes(K, modes):\n",
    "    plt.plot(modes, K.pdf(modes), 'o', ms=10)"
   ]
  },
  {
   "cell_type": "code",
   "execution_count": 262,
   "metadata": {},
   "outputs": [],
   "source": [
    "data = chondrite"
   ]
  },
  {
   "cell_type": "code",
   "execution_count": 263,
   "metadata": {},
   "outputs": [
    {
     "data": {
      "image/png": "[encoded data removed]",
      "text/plain": [
       "<matplotlib.figure.Figure at 0x7f8f53e17e90>"
      ]
     },
     "metadata": {},
     "output_type": "display_data"
    }
   ],
   "source": [
    "qk = 1\n",
    "\n",
    "K = gaussian_kde(data)\n",
    "sigma_critical = find_critical_bandwidth(K, qk=qk, tol=1e-3)\n",
    "K.set_bandwidth(sigma_critical/ K.dataset.std(ddof=1))\n",
    "plot_kde(K)\n",
    "modes = find_all_kde_modes(K, qk)\n",
    "plot_modes(K, modes)\n",
    "plt.hist(data, density=True, bins=20);"
   ]
  },
  {
   "cell_type": "code",
   "execution_count": 264,
   "metadata": {},
   "outputs": [
    {
     "data": {
      "text/plain": [
       "<matplotlib.collections.LineCollection at 0x7f8f5322b710>"
      ]
     },
     "execution_count": 264,
     "metadata": {},
     "output_type": "execute_result"
    },
    {
     "data": {
      "image/png": "[encoded data removed]",
      "text/plain": [
       "<matplotlib.figure.Figure at 0x7f8f5322bc10>"
      ]
     },
     "metadata": {},
     "output_type": "display_data"
    }
   ],
   "source": [
    "zstd = []\n",
    "for ix in range(10000):\n",
    "    Z = bootstrap_sample(data, sigma_critical, len(data))\n",
    "    zstd.append(Z.std(ddof=0))\n",
    "    \n",
    "plt.hist(zstd, density=True)\n",
    "plt.vlines(data.std(ddof=0), 0, 1.0, color='C1')"
   ]
  },
  {
   "cell_type": "code",
   "execution_count": 265,
   "metadata": {},
   "outputs": [
    {
     "name": "stderr",
     "output_type": "stream",
     "text": [
      "100%|██████████| 100/100 [00:16<00:00,  5.91it/s]\n"
     ]
    },
    {
     "data": {
      "text/plain": [
       "<matplotlib.collections.LineCollection at 0x7f8f53259d50>"
      ]
     },
     "execution_count": 265,
     "metadata": {},
     "output_type": "execute_result"
    },
    {
     "data": {
      "image/png": "[encoded data removed]",
      "text/plain": [
       "<matplotlib.figure.Figure at 0x7f8f53259090>"
      ]
     },
     "metadata": {},
     "output_type": "display_data"
    }
   ],
   "source": [
    "bs_sigma_critical = []\n",
    "for ix in tq.tqdm(range(100)):\n",
    "    Z = bootstrap_sample(data, sigma_critical, len(data))\n",
    "    Kz = gaussian_kde(Z)\n",
    "    bs_sigma_critical.append(find_critical_bandwidth(Kz, qk=qk, tol=1e-3))\n",
    "    \n",
    "plt.hist(bs_sigma_critical)\n",
    "plt.vlines(sigma_critical, 0, 6, color='C1')"
   ]
  },
  {
   "cell_type": "code",
   "execution_count": 297,
   "metadata": {},
   "outputs": [
    {
     "name": "stderr",
     "output_type": "stream",
     "text": [
      "100%|██████████| 100/100 [00:00<00:00, 115.77it/s]\n"
     ]
    },
    {
     "data": {
      "text/plain": [
       "0.9400000000000006"
      ]
     },
     "execution_count": 297,
     "metadata": {},
     "output_type": "execute_result"
    }
   ],
   "source": [
    "silvermans_test(data, qk=2, num_bootstraps=100, use_beta=False, tol=1e-3)"
   ]
  },
  {
   "cell_type": "code",
   "execution_count": 274,
   "metadata": {},
   "outputs": [
    {
     "data": {
      "text/plain": [
       "0.481"
      ]
     },
     "execution_count": 274,
     "metadata": {},
     "output_type": "execute_result"
    }
   ],
   "source": [
    "find_critical_bandwidth(K, 4, tol=1e-3)"
   ]
  },
  {
   "cell_type": "code",
   "execution_count": 43,
   "metadata": {},
   "outputs": [],
   "source": [
    "from scipy.stats import beta"
   ]
  },
  {
   "cell_type": "code",
   "execution_count": 293,
   "metadata": {},
   "outputs": [
    {
     "data": {
      "text/plain": [
       "[<matplotlib.lines.Line2D at 0x7f8f53571050>]"
      ]
     },
     "execution_count": 293,
     "metadata": {},
     "output_type": "execute_result"
    },
    {
     "data": {
      "image/png": "[encoded data removed]",
      "text/plain": [
       "<matplotlib.figure.Figure at 0x7f8f530f1950>"
      ]
     },
     "metadata": {},
     "output_type": "display_data"
    }
   ],
   "source": [
    "CI = 0.01\n",
    "a = 120\n",
    "b = 500\n",
    "MAP = (a - 1.) / (a + b - 2.)\n",
    "\n",
    "x = np.linspace(0, 1, 1000)\n",
    "pbeta = beta.pdf(x, 50, 50)\n",
    "plt.plot(x, pbeta)"
   ]
  },
  {
   "cell_type": "code",
   "execution_count": 294,
   "metadata": {},
   "outputs": [
    {
     "data": {
      "text/plain": [
       "(0.1634324276080675, 0.2255366164249928)"
      ]
     },
     "execution_count": 294,
     "metadata": {},
     "output_type": "execute_result"
    }
   ],
   "source": [
    "beta.interval(0.95, a, b)"
   ]
  },
  {
   "cell_type": "code",
   "execution_count": null,
   "metadata": {},
   "outputs": [],
   "source": []
  }
 ],
 "metadata": {
  "kernelspec": {
   "display_name": "Python 2",
   "language": "python",
   "name": "python2"
  },
  "language_info": {
   "codemirror_mode": {
    "name": "ipython",
    "version": 2
   },
   "file_extension": ".py",
   "mimetype": "text/x-python",
   "name": "python",
   "nbconvert_exporter": "python",
   "pygments_lexer": "ipython2",
   "version": "2.7.15"
  }
 },
 "nbformat": 4,
 "nbformat_minor": 2
}
